{
  "cells": [
    {
      "cell_type": "markdown",
      "metadata": {
        "id": "sC2BFMOKN1M7"
      },
      "source": [
        "---\n",
        "<img alt=\"bruno logo\" width=\"15%\" src=\"https://raw.githubusercontent.com/brunobonatini/Data_Science/main/logo.png\">\n",
        "\n",
        "#### **Data Scientist & Analyst**\n",
        "*by [Bruno Bonatini](https://www.linkedin.com/in/bsbonatini/)*\n",
        "\n",
        "---"
      ]
    },
    {
      "cell_type": "markdown",
      "metadata": {
        "id": "IR56trFcPcC1"
      },
      "source": [
        "# Detecção de Fraudes em Cartões de Crédito\n",
        "\n",
        "<img src= \"https://github.com/brunobonatini/Deteccao-de-fraudes-em-cartoes-de-credito/blob/main/deteccao_fraude.jpg?raw=true\" width=\"80%\"> \n",
        "\n",
        "A detecção de fraudes é uma tarefa crítica em muitas empresas, desde serviços financeiros até varejo online. Com o aumento do uso de transações digitais, a detecção de fraudes se tornou cada vez mais desafiadora, e muitas organizações lutam para detectar atividades fraudulentas em curto espaço de tempo.\n",
        "\n",
        "De acordo com o site da [Globo](https://epocanegocios.globo.com/tecnologia/noticia/2023/02/brasil-teve-56-milhoes-de-tentativas-de-golpes-em-2022-conheca-as-principais-fraudes.ghtml), no ano de 2022 as fraudes no Brasil chegaram a quase 5,6 milhôes de tentativas. O estudo analisou 312,2 milhões de pedidos realizados no e-commerce, feitos via pagamento por cartão de crédito. Ao todo, as ações fraudulentas somaram prejuízos de R$5,8 bilhões.\n",
        "\n",
        "As fraudes em cartões de crédito podem levar a perdas financeiras significativas e, muitas vezes, é difícil para as empresas detectarem essas atividades fraudulentas em um curto espaço de tempo.\n",
        "\n",
        "Por todos esses motivos, o investimento na área de detecção de fraudes por meio de Inteligência Artificial vem crescendo a cada ano, representando uma grande oportunidade em *Data Science*. \n",
        "\n",
        "Dispondo de grandes volumes de dados como base histórica, um algorítmo de Machine Learning pode gerar uma economia de milhões de reais para a empresa. E esse é o desafio, aprimorar cada vez mais o uso de algorítmos visando inibir ou evitar transações fraudulentas."
      ]
    },
    {
      "cell_type": "markdown",
      "source": [
        "## Objetivo do Projeto\n",
        "\n",
        "Este projeto tem como objetivo construir modelos de Machine Learning para detectar fraudes em transações de cartão de crédito. Serão utilizados dados históricos de transações rotuladas como fraudulentas ou não fraudulentas para treinar o modelo. \n",
        "\n",
        "A partir desse treinamento, os modelos serão capazes de aprender padrões e identificar transações fraudulentas em tempo real. O sucesso deste projeto pode ajudar a reduzir as perdas financeiras para as empresas de cartões de crédito e proteger os consumidores contra fraudes.\n",
        "\n",
        "<img src = \"https://github.com/brunobonatini/Deteccao-de-fraudes-em-cartoes-de-credito/blob/main/fraude_cartoes.jpg?raw=true\" width = 80%>"
      ],
      "metadata": {
        "id": "mmqtfF3Un5jh"
      }
    },
    {
      "cell_type": "markdown",
      "metadata": {
        "id": "0HVmpIxQWT4Y"
      },
      "source": [
        "## Importando os Dados\n",
        "\n",
        "Os dados utilizados neste projeto foram disponibilizados por algumas empresas europeias de cartão de crédito no [Kaggle](https://www.kaggle.com/mlg-ulb/creditcardfraud). \n",
        "\n",
        "O ***dataset*** representa as operações financeiras que aconteceram no período de dois dias, onde foram classificadas 492 fraudes em meio a quase 290 mil transações.\n",
        "\n",
        "Este conjunto de dados é altamente desbalanceado, sendo que a classe positiva (fraudes) corresponde por apenas 0,17% de todas as transações.\n",
        "\n",
        "Outro detalhe interessante é que as *features* são todas numéricas e foram descaracterizadas (por problemas ligados à privacidade e segurança). Assim, os nomes das colunas são representados por $(V1, V2, V3 \\dots, V28)$ \n",
        "\n",
        "Também é informado que as variáveis passaram por uma transformação conhecida como Análise de Componentes Principais (*Principal Component Analysis* - PCA).\n",
        "\n",
        "Ao utilizar a PCA, a ideia é reduzir a dimensão dos dados, mantendo a maior parte da informação possível em um número menor de componentes principais. Isso pode tornar a análise dos dados mais fácil e ajudar a descobrir padrões ou relações entre as variáveis originais.\n",
        "\n",
        "Esses componentes são em número menor ou igual as variáveis originais. No caso deste projeto, os componentes encontrados pela transformação da PCA são as próprias colunas $(V1, V2, V3 \\dots, V28)$."
      ]
    },
    {
      "cell_type": "markdown",
      "metadata": {
        "id": "g5XDTWW5LRVe"
      },
      "source": [
        "## Primeiro contato com os Dados\n",
        "\n",
        "Aqui será o nosso primeiro contato com o dataset, farei a importação das bibliotecas e olharei de forma superficial as primeiras entradas e o tamanho do conjunto de dados utilizado no projeto."
      ]
    },
    {
      "cell_type": "code",
      "execution_count": null,
      "metadata": {
        "id": "oQ4bNy7udtEE"
      },
      "outputs": [],
      "source": [
        "# importando as bibliotecas\n",
        "import pandas as pd\n",
        "import numpy as np\n",
        "import matplotlib.pyplot as plt\n",
        "import seaborn as sns\n",
        "\n",
        "%matplotlib inline\n",
        "\n",
        "# configuração do estilo do plot\n",
        "sns.set_style('dark')"
      ]
    },
    {
      "cell_type": "code",
      "source": [
        "from google.colab import drive\n",
        "drive.mount('/content/drive')"
      ],
      "metadata": {
        "colab": {
          "base_uri": "https://localhost:8080/"
        },
        "id": "BIhcH3SPaKVE",
        "outputId": "55fa6f59-905b-4dfd-d6dc-d231f6d5abe7"
      },
      "execution_count": null,
      "outputs": [
        {
          "output_type": "stream",
          "name": "stdout",
          "text": [
            "Drive already mounted at /content/drive; to attempt to forcibly remount, call drive.mount(\"/content/drive\", force_remount=True).\n"
          ]
        }
      ]
    },
    {
      "cell_type": "code",
      "execution_count": null,
      "metadata": {
        "colab": {
          "base_uri": "https://localhost:8080/",
          "height": 334
        },
        "id": "4NxUOfDOj2j8",
        "outputId": "d06588c8-f6b7-4754-bab7-f1758dd6dbaa"
      },
      "outputs": [
        {
          "output_type": "stream",
          "name": "stdout",
          "text": [
            "Tamanho do dataset: (284807, 31)\n",
            "\n"
          ]
        },
        {
          "output_type": "execute_result",
          "data": {
            "text/plain": [
              "   Time        V1        V2        V3        V4        V5        V6        V7  \\\n",
              "0   0.0 -1.359807 -0.072781  2.536347  1.378155 -0.338321  0.462388  0.239599   \n",
              "1   0.0  1.191857  0.266151  0.166480  0.448154  0.060018 -0.082361 -0.078803   \n",
              "2   1.0 -1.358354 -1.340163  1.773209  0.379780 -0.503198  1.800499  0.791461   \n",
              "3   1.0 -0.966272 -0.185226  1.792993 -0.863291 -0.010309  1.247203  0.237609   \n",
              "4   2.0 -1.158233  0.877737  1.548718  0.403034 -0.407193  0.095921  0.592941   \n",
              "\n",
              "         V8        V9  ...       V21       V22       V23       V24       V25  \\\n",
              "0  0.098698  0.363787  ... -0.018307  0.277838 -0.110474  0.066928  0.128539   \n",
              "1  0.085102 -0.255425  ... -0.225775 -0.638672  0.101288 -0.339846  0.167170   \n",
              "2  0.247676 -1.514654  ...  0.247998  0.771679  0.909412 -0.689281 -0.327642   \n",
              "3  0.377436 -1.387024  ... -0.108300  0.005274 -0.190321 -1.175575  0.647376   \n",
              "4 -0.270533  0.817739  ... -0.009431  0.798278 -0.137458  0.141267 -0.206010   \n",
              "\n",
              "        V26       V27       V28  Amount  Class  \n",
              "0 -0.189115  0.133558 -0.021053  149.62      0  \n",
              "1  0.125895 -0.008983  0.014724    2.69      0  \n",
              "2 -0.139097 -0.055353 -0.059752  378.66      0  \n",
              "3 -0.221929  0.062723  0.061458  123.50      0  \n",
              "4  0.502292  0.219422  0.215153   69.99      0  \n",
              "\n",
              "[5 rows x 31 columns]"
            ],
            "text/html": [
              "\n",
              "  <div id=\"df-c3a81257-c7f1-49f6-a01e-db31363fae15\">\n",
              "    <div class=\"colab-df-container\">\n",
              "      <div>\n",
              "<style scoped>\n",
              "    .dataframe tbody tr th:only-of-type {\n",
              "        vertical-align: middle;\n",
              "    }\n",
              "\n",
              "    .dataframe tbody tr th {\n",
              "        vertical-align: top;\n",
              "    }\n",
              "\n",
              "    .dataframe thead th {\n",
              "        text-align: right;\n",
              "    }\n",
              "</style>\n",
              "<table border=\"1\" class=\"dataframe\">\n",
              "  <thead>\n",
              "    <tr style=\"text-align: right;\">\n",
              "      <th></th>\n",
              "      <th>Time</th>\n",
              "      <th>V1</th>\n",
              "      <th>V2</th>\n",
              "      <th>V3</th>\n",
              "      <th>V4</th>\n",
              "      <th>V5</th>\n",
              "      <th>V6</th>\n",
              "      <th>V7</th>\n",
              "      <th>V8</th>\n",
              "      <th>V9</th>\n",
              "      <th>...</th>\n",
              "      <th>V21</th>\n",
              "      <th>V22</th>\n",
              "      <th>V23</th>\n",
              "      <th>V24</th>\n",
              "      <th>V25</th>\n",
              "      <th>V26</th>\n",
              "      <th>V27</th>\n",
              "      <th>V28</th>\n",
              "      <th>Amount</th>\n",
              "      <th>Class</th>\n",
              "    </tr>\n",
              "  </thead>\n",
              "  <tbody>\n",
              "    <tr>\n",
              "      <th>0</th>\n",
              "      <td>0.0</td>\n",
              "      <td>-1.359807</td>\n",
              "      <td>-0.072781</td>\n",
              "      <td>2.536347</td>\n",
              "      <td>1.378155</td>\n",
              "      <td>-0.338321</td>\n",
              "      <td>0.462388</td>\n",
              "      <td>0.239599</td>\n",
              "      <td>0.098698</td>\n",
              "      <td>0.363787</td>\n",
              "      <td>...</td>\n",
              "      <td>-0.018307</td>\n",
              "      <td>0.277838</td>\n",
              "      <td>-0.110474</td>\n",
              "      <td>0.066928</td>\n",
              "      <td>0.128539</td>\n",
              "      <td>-0.189115</td>\n",
              "      <td>0.133558</td>\n",
              "      <td>-0.021053</td>\n",
              "      <td>149.62</td>\n",
              "      <td>0</td>\n",
              "    </tr>\n",
              "    <tr>\n",
              "      <th>1</th>\n",
              "      <td>0.0</td>\n",
              "      <td>1.191857</td>\n",
              "      <td>0.266151</td>\n",
              "      <td>0.166480</td>\n",
              "      <td>0.448154</td>\n",
              "      <td>0.060018</td>\n",
              "      <td>-0.082361</td>\n",
              "      <td>-0.078803</td>\n",
              "      <td>0.085102</td>\n",
              "      <td>-0.255425</td>\n",
              "      <td>...</td>\n",
              "      <td>-0.225775</td>\n",
              "      <td>-0.638672</td>\n",
              "      <td>0.101288</td>\n",
              "      <td>-0.339846</td>\n",
              "      <td>0.167170</td>\n",
              "      <td>0.125895</td>\n",
              "      <td>-0.008983</td>\n",
              "      <td>0.014724</td>\n",
              "      <td>2.69</td>\n",
              "      <td>0</td>\n",
              "    </tr>\n",
              "    <tr>\n",
              "      <th>2</th>\n",
              "      <td>1.0</td>\n",
              "      <td>-1.358354</td>\n",
              "      <td>-1.340163</td>\n",
              "      <td>1.773209</td>\n",
              "      <td>0.379780</td>\n",
              "      <td>-0.503198</td>\n",
              "      <td>1.800499</td>\n",
              "      <td>0.791461</td>\n",
              "      <td>0.247676</td>\n",
              "      <td>-1.514654</td>\n",
              "      <td>...</td>\n",
              "      <td>0.247998</td>\n",
              "      <td>0.771679</td>\n",
              "      <td>0.909412</td>\n",
              "      <td>-0.689281</td>\n",
              "      <td>-0.327642</td>\n",
              "      <td>-0.139097</td>\n",
              "      <td>-0.055353</td>\n",
              "      <td>-0.059752</td>\n",
              "      <td>378.66</td>\n",
              "      <td>0</td>\n",
              "    </tr>\n",
              "    <tr>\n",
              "      <th>3</th>\n",
              "      <td>1.0</td>\n",
              "      <td>-0.966272</td>\n",
              "      <td>-0.185226</td>\n",
              "      <td>1.792993</td>\n",
              "      <td>-0.863291</td>\n",
              "      <td>-0.010309</td>\n",
              "      <td>1.247203</td>\n",
              "      <td>0.237609</td>\n",
              "      <td>0.377436</td>\n",
              "      <td>-1.387024</td>\n",
              "      <td>...</td>\n",
              "      <td>-0.108300</td>\n",
              "      <td>0.005274</td>\n",
              "      <td>-0.190321</td>\n",
              "      <td>-1.175575</td>\n",
              "      <td>0.647376</td>\n",
              "      <td>-0.221929</td>\n",
              "      <td>0.062723</td>\n",
              "      <td>0.061458</td>\n",
              "      <td>123.50</td>\n",
              "      <td>0</td>\n",
              "    </tr>\n",
              "    <tr>\n",
              "      <th>4</th>\n",
              "      <td>2.0</td>\n",
              "      <td>-1.158233</td>\n",
              "      <td>0.877737</td>\n",
              "      <td>1.548718</td>\n",
              "      <td>0.403034</td>\n",
              "      <td>-0.407193</td>\n",
              "      <td>0.095921</td>\n",
              "      <td>0.592941</td>\n",
              "      <td>-0.270533</td>\n",
              "      <td>0.817739</td>\n",
              "      <td>...</td>\n",
              "      <td>-0.009431</td>\n",
              "      <td>0.798278</td>\n",
              "      <td>-0.137458</td>\n",
              "      <td>0.141267</td>\n",
              "      <td>-0.206010</td>\n",
              "      <td>0.502292</td>\n",
              "      <td>0.219422</td>\n",
              "      <td>0.215153</td>\n",
              "      <td>69.99</td>\n",
              "      <td>0</td>\n",
              "    </tr>\n",
              "  </tbody>\n",
              "</table>\n",
              "<p>5 rows × 31 columns</p>\n",
              "</div>\n",
              "      <button class=\"colab-df-convert\" onclick=\"convertToInteractive('df-c3a81257-c7f1-49f6-a01e-db31363fae15')\"\n",
              "              title=\"Convert this dataframe to an interactive table.\"\n",
              "              style=\"display:none;\">\n",
              "        \n",
              "  <svg xmlns=\"http://www.w3.org/2000/svg\" height=\"24px\"viewBox=\"0 0 24 24\"\n",
              "       width=\"24px\">\n",
              "    <path d=\"M0 0h24v24H0V0z\" fill=\"none\"/>\n",
              "    <path d=\"M18.56 5.44l.94 2.06.94-2.06 2.06-.94-2.06-.94-.94-2.06-.94 2.06-2.06.94zm-11 1L8.5 8.5l.94-2.06 2.06-.94-2.06-.94L8.5 2.5l-.94 2.06-2.06.94zm10 10l.94 2.06.94-2.06 2.06-.94-2.06-.94-.94-2.06-.94 2.06-2.06.94z\"/><path d=\"M17.41 7.96l-1.37-1.37c-.4-.4-.92-.59-1.43-.59-.52 0-1.04.2-1.43.59L10.3 9.45l-7.72 7.72c-.78.78-.78 2.05 0 2.83L4 21.41c.39.39.9.59 1.41.59.51 0 1.02-.2 1.41-.59l7.78-7.78 2.81-2.81c.8-.78.8-2.07 0-2.86zM5.41 20L4 18.59l7.72-7.72 1.47 1.35L5.41 20z\"/>\n",
              "  </svg>\n",
              "      </button>\n",
              "      \n",
              "  <style>\n",
              "    .colab-df-container {\n",
              "      display:flex;\n",
              "      flex-wrap:wrap;\n",
              "      gap: 12px;\n",
              "    }\n",
              "\n",
              "    .colab-df-convert {\n",
              "      background-color: #E8F0FE;\n",
              "      border: none;\n",
              "      border-radius: 50%;\n",
              "      cursor: pointer;\n",
              "      display: none;\n",
              "      fill: #1967D2;\n",
              "      height: 32px;\n",
              "      padding: 0 0 0 0;\n",
              "      width: 32px;\n",
              "    }\n",
              "\n",
              "    .colab-df-convert:hover {\n",
              "      background-color: #E2EBFA;\n",
              "      box-shadow: 0px 1px 2px rgba(60, 64, 67, 0.3), 0px 1px 3px 1px rgba(60, 64, 67, 0.15);\n",
              "      fill: #174EA6;\n",
              "    }\n",
              "\n",
              "    [theme=dark] .colab-df-convert {\n",
              "      background-color: #3B4455;\n",
              "      fill: #D2E3FC;\n",
              "    }\n",
              "\n",
              "    [theme=dark] .colab-df-convert:hover {\n",
              "      background-color: #434B5C;\n",
              "      box-shadow: 0px 1px 3px 1px rgba(0, 0, 0, 0.15);\n",
              "      filter: drop-shadow(0px 1px 2px rgba(0, 0, 0, 0.3));\n",
              "      fill: #FFFFFF;\n",
              "    }\n",
              "  </style>\n",
              "\n",
              "      <script>\n",
              "        const buttonEl =\n",
              "          document.querySelector('#df-c3a81257-c7f1-49f6-a01e-db31363fae15 button.colab-df-convert');\n",
              "        buttonEl.style.display =\n",
              "          google.colab.kernel.accessAllowed ? 'block' : 'none';\n",
              "\n",
              "        async function convertToInteractive(key) {\n",
              "          const element = document.querySelector('#df-c3a81257-c7f1-49f6-a01e-db31363fae15');\n",
              "          const dataTable =\n",
              "            await google.colab.kernel.invokeFunction('convertToInteractive',\n",
              "                                                     [key], {});\n",
              "          if (!dataTable) return;\n",
              "\n",
              "          const docLinkHtml = 'Like what you see? Visit the ' +\n",
              "            '<a target=\"_blank\" href=https://colab.research.google.com/notebooks/data_table.ipynb>data table notebook</a>'\n",
              "            + ' to learn more about interactive tables.';\n",
              "          element.innerHTML = '';\n",
              "          dataTable['output_type'] = 'display_data';\n",
              "          await google.colab.output.renderOutput(dataTable, element);\n",
              "          const docLink = document.createElement('div');\n",
              "          docLink.innerHTML = docLinkHtml;\n",
              "          element.appendChild(docLink);\n",
              "        }\n",
              "      </script>\n",
              "    </div>\n",
              "  </div>\n",
              "  "
            ]
          },
          "metadata": {},
          "execution_count": 11
        }
      ],
      "source": [
        "# importando o arquivo\n",
        "data = \"/content/drive/MyDrive/Projetos/Detecção_Fraudes_CartoesCredito/data_creditcard.csv\"\n",
        "df = pd.read_csv(data)\n",
        "\n",
        "# verificando as primeiras entradas e o volume do dataset\n",
        "\n",
        "print('Tamanho do dataset: {}\\n'.format(df.shape))\n",
        "df.head()"
      ]
    },
    {
      "cell_type": "markdown",
      "metadata": {
        "id": "ldcKeKFO6sL1"
      },
      "source": [
        "## Dicionário de Variáveis\n",
        "\n",
        "Esta etapa tem como objetivo descrever as variáveis e compreender o que cada coluna significa.\n",
        "\n",
        "Vale lembrar que as variáveis **V1-V28** passaram por uma descaracterização por motivos de privacidade. As únicas variáveis que não passaram por este processo foram *Time* e *Amount*.\n",
        "\n",
        "* **Time** - segundos decorridos entre cada transação\n",
        "* **Amount** - valor da transação \n",
        "* **Class** -  variável a ser prevista e assume valor 1 em caso de *fraude* e 0 em caso *normal*\n",
        "* **V1-V28** - variáveis descaracterizadas por motivos de privacidade"
      ]
    },
    {
      "cell_type": "markdown",
      "source": [
        "<img src= \"https://github.com/brunobonatini/Deteccao-de-fraudes-em-cartoes-de-credito/blob/main/deteccao_digital.jpg?raw=true\" width=\"80%\">"
      ],
      "metadata": {
        "id": "_e96NM5Gwqui"
      }
    },
    {
      "cell_type": "markdown",
      "metadata": {
        "id": "8UtXyZ6stlSM"
      },
      "source": [
        "# Análise Exploratória\n",
        "\n",
        "Farei uma exploração no dataset para entender melhor as características e a estrutura dos dados. Isso envolve verificar a presença de valores ausentes, verificar a consistência e integridade dos dados, explorar a distribuição dos dados por meio de gráficos e medidas estatísticas, identificar correlações e analisar dados categóricos."
      ]
    },
    {
      "cell_type": "code",
      "execution_count": null,
      "metadata": {
        "colab": {
          "base_uri": "https://localhost:8080/",
          "height": 393
        },
        "id": "ScAytUPVoi3I",
        "outputId": "44f2c77b-7916-4dd7-ac91-a1b8f19772a0"
      },
      "outputs": [
        {
          "output_type": "execute_result",
          "data": {
            "text/plain": [
              "                Time            V1            V2            V3            V4  \\\n",
              "count  284807.000000  2.848070e+05  2.848070e+05  2.848070e+05  2.848070e+05   \n",
              "mean    94813.859575  1.168375e-15  3.416908e-16 -1.379537e-15  2.074095e-15   \n",
              "std     47488.145955  1.958696e+00  1.651309e+00  1.516255e+00  1.415869e+00   \n",
              "min         0.000000 -5.640751e+01 -7.271573e+01 -4.832559e+01 -5.683171e+00   \n",
              "25%     54201.500000 -9.203734e-01 -5.985499e-01 -8.903648e-01 -8.486401e-01   \n",
              "50%     84692.000000  1.810880e-02  6.548556e-02  1.798463e-01 -1.984653e-02   \n",
              "75%    139320.500000  1.315642e+00  8.037239e-01  1.027196e+00  7.433413e-01   \n",
              "max    172792.000000  2.454930e+00  2.205773e+01  9.382558e+00  1.687534e+01   \n",
              "\n",
              "                 V5            V6            V7            V8            V9  \\\n",
              "count  2.848070e+05  2.848070e+05  2.848070e+05  2.848070e+05  2.848070e+05   \n",
              "mean   9.604066e-16  1.487313e-15 -5.556467e-16  1.213481e-16 -2.406331e-15   \n",
              "std    1.380247e+00  1.332271e+00  1.237094e+00  1.194353e+00  1.098632e+00   \n",
              "min   -1.137433e+02 -2.616051e+01 -4.355724e+01 -7.321672e+01 -1.343407e+01   \n",
              "25%   -6.915971e-01 -7.682956e-01 -5.540759e-01 -2.086297e-01 -6.430976e-01   \n",
              "50%   -5.433583e-02 -2.741871e-01  4.010308e-02  2.235804e-02 -5.142873e-02   \n",
              "75%    6.119264e-01  3.985649e-01  5.704361e-01  3.273459e-01  5.971390e-01   \n",
              "max    3.480167e+01  7.330163e+01  1.205895e+02  2.000721e+01  1.559499e+01   \n",
              "\n",
              "       ...           V21           V22           V23           V24  \\\n",
              "count  ...  2.848070e+05  2.848070e+05  2.848070e+05  2.848070e+05   \n",
              "mean   ...  1.654067e-16 -3.568593e-16  2.578648e-16  4.473266e-15   \n",
              "std    ...  7.345240e-01  7.257016e-01  6.244603e-01  6.056471e-01   \n",
              "min    ... -3.483038e+01 -1.093314e+01 -4.480774e+01 -2.836627e+00   \n",
              "25%    ... -2.283949e-01 -5.423504e-01 -1.618463e-01 -3.545861e-01   \n",
              "50%    ... -2.945017e-02  6.781943e-03 -1.119293e-02  4.097606e-02   \n",
              "75%    ...  1.863772e-01  5.285536e-01  1.476421e-01  4.395266e-01   \n",
              "max    ...  2.720284e+01  1.050309e+01  2.252841e+01  4.584549e+00   \n",
              "\n",
              "                V25           V26           V27           V28         Amount  \\\n",
              "count  2.848070e+05  2.848070e+05  2.848070e+05  2.848070e+05  284807.000000   \n",
              "mean   5.340915e-16  1.683437e-15 -3.660091e-16 -1.227390e-16      88.349619   \n",
              "std    5.212781e-01  4.822270e-01  4.036325e-01  3.300833e-01     250.120109   \n",
              "min   -1.029540e+01 -2.604551e+00 -2.256568e+01 -1.543008e+01       0.000000   \n",
              "25%   -3.171451e-01 -3.269839e-01 -7.083953e-02 -5.295979e-02       5.600000   \n",
              "50%    1.659350e-02 -5.213911e-02  1.342146e-03  1.124383e-02      22.000000   \n",
              "75%    3.507156e-01  2.409522e-01  9.104512e-02  7.827995e-02      77.165000   \n",
              "max    7.519589e+00  3.517346e+00  3.161220e+01  3.384781e+01   25691.160000   \n",
              "\n",
              "               Class  \n",
              "count  284807.000000  \n",
              "mean        0.001727  \n",
              "std         0.041527  \n",
              "min         0.000000  \n",
              "25%         0.000000  \n",
              "50%         0.000000  \n",
              "75%         0.000000  \n",
              "max         1.000000  \n",
              "\n",
              "[8 rows x 31 columns]"
            ],
            "text/html": [
              "\n",
              "  <div id=\"df-00bc499c-e7e7-48e6-99f0-2d1fca89c2ef\">\n",
              "    <div class=\"colab-df-container\">\n",
              "      <div>\n",
              "<style scoped>\n",
              "    .dataframe tbody tr th:only-of-type {\n",
              "        vertical-align: middle;\n",
              "    }\n",
              "\n",
              "    .dataframe tbody tr th {\n",
              "        vertical-align: top;\n",
              "    }\n",
              "\n",
              "    .dataframe thead th {\n",
              "        text-align: right;\n",
              "    }\n",
              "</style>\n",
              "<table border=\"1\" class=\"dataframe\">\n",
              "  <thead>\n",
              "    <tr style=\"text-align: right;\">\n",
              "      <th></th>\n",
              "      <th>Time</th>\n",
              "      <th>V1</th>\n",
              "      <th>V2</th>\n",
              "      <th>V3</th>\n",
              "      <th>V4</th>\n",
              "      <th>V5</th>\n",
              "      <th>V6</th>\n",
              "      <th>V7</th>\n",
              "      <th>V8</th>\n",
              "      <th>V9</th>\n",
              "      <th>...</th>\n",
              "      <th>V21</th>\n",
              "      <th>V22</th>\n",
              "      <th>V23</th>\n",
              "      <th>V24</th>\n",
              "      <th>V25</th>\n",
              "      <th>V26</th>\n",
              "      <th>V27</th>\n",
              "      <th>V28</th>\n",
              "      <th>Amount</th>\n",
              "      <th>Class</th>\n",
              "    </tr>\n",
              "  </thead>\n",
              "  <tbody>\n",
              "    <tr>\n",
              "      <th>count</th>\n",
              "      <td>284807.000000</td>\n",
              "      <td>2.848070e+05</td>\n",
              "      <td>2.848070e+05</td>\n",
              "      <td>2.848070e+05</td>\n",
              "      <td>2.848070e+05</td>\n",
              "      <td>2.848070e+05</td>\n",
              "      <td>2.848070e+05</td>\n",
              "      <td>2.848070e+05</td>\n",
              "      <td>2.848070e+05</td>\n",
              "      <td>2.848070e+05</td>\n",
              "      <td>...</td>\n",
              "      <td>2.848070e+05</td>\n",
              "      <td>2.848070e+05</td>\n",
              "      <td>2.848070e+05</td>\n",
              "      <td>2.848070e+05</td>\n",
              "      <td>2.848070e+05</td>\n",
              "      <td>2.848070e+05</td>\n",
              "      <td>2.848070e+05</td>\n",
              "      <td>2.848070e+05</td>\n",
              "      <td>284807.000000</td>\n",
              "      <td>284807.000000</td>\n",
              "    </tr>\n",
              "    <tr>\n",
              "      <th>mean</th>\n",
              "      <td>94813.859575</td>\n",
              "      <td>1.168375e-15</td>\n",
              "      <td>3.416908e-16</td>\n",
              "      <td>-1.379537e-15</td>\n",
              "      <td>2.074095e-15</td>\n",
              "      <td>9.604066e-16</td>\n",
              "      <td>1.487313e-15</td>\n",
              "      <td>-5.556467e-16</td>\n",
              "      <td>1.213481e-16</td>\n",
              "      <td>-2.406331e-15</td>\n",
              "      <td>...</td>\n",
              "      <td>1.654067e-16</td>\n",
              "      <td>-3.568593e-16</td>\n",
              "      <td>2.578648e-16</td>\n",
              "      <td>4.473266e-15</td>\n",
              "      <td>5.340915e-16</td>\n",
              "      <td>1.683437e-15</td>\n",
              "      <td>-3.660091e-16</td>\n",
              "      <td>-1.227390e-16</td>\n",
              "      <td>88.349619</td>\n",
              "      <td>0.001727</td>\n",
              "    </tr>\n",
              "    <tr>\n",
              "      <th>std</th>\n",
              "      <td>47488.145955</td>\n",
              "      <td>1.958696e+00</td>\n",
              "      <td>1.651309e+00</td>\n",
              "      <td>1.516255e+00</td>\n",
              "      <td>1.415869e+00</td>\n",
              "      <td>1.380247e+00</td>\n",
              "      <td>1.332271e+00</td>\n",
              "      <td>1.237094e+00</td>\n",
              "      <td>1.194353e+00</td>\n",
              "      <td>1.098632e+00</td>\n",
              "      <td>...</td>\n",
              "      <td>7.345240e-01</td>\n",
              "      <td>7.257016e-01</td>\n",
              "      <td>6.244603e-01</td>\n",
              "      <td>6.056471e-01</td>\n",
              "      <td>5.212781e-01</td>\n",
              "      <td>4.822270e-01</td>\n",
              "      <td>4.036325e-01</td>\n",
              "      <td>3.300833e-01</td>\n",
              "      <td>250.120109</td>\n",
              "      <td>0.041527</td>\n",
              "    </tr>\n",
              "    <tr>\n",
              "      <th>min</th>\n",
              "      <td>0.000000</td>\n",
              "      <td>-5.640751e+01</td>\n",
              "      <td>-7.271573e+01</td>\n",
              "      <td>-4.832559e+01</td>\n",
              "      <td>-5.683171e+00</td>\n",
              "      <td>-1.137433e+02</td>\n",
              "      <td>-2.616051e+01</td>\n",
              "      <td>-4.355724e+01</td>\n",
              "      <td>-7.321672e+01</td>\n",
              "      <td>-1.343407e+01</td>\n",
              "      <td>...</td>\n",
              "      <td>-3.483038e+01</td>\n",
              "      <td>-1.093314e+01</td>\n",
              "      <td>-4.480774e+01</td>\n",
              "      <td>-2.836627e+00</td>\n",
              "      <td>-1.029540e+01</td>\n",
              "      <td>-2.604551e+00</td>\n",
              "      <td>-2.256568e+01</td>\n",
              "      <td>-1.543008e+01</td>\n",
              "      <td>0.000000</td>\n",
              "      <td>0.000000</td>\n",
              "    </tr>\n",
              "    <tr>\n",
              "      <th>25%</th>\n",
              "      <td>54201.500000</td>\n",
              "      <td>-9.203734e-01</td>\n",
              "      <td>-5.985499e-01</td>\n",
              "      <td>-8.903648e-01</td>\n",
              "      <td>-8.486401e-01</td>\n",
              "      <td>-6.915971e-01</td>\n",
              "      <td>-7.682956e-01</td>\n",
              "      <td>-5.540759e-01</td>\n",
              "      <td>-2.086297e-01</td>\n",
              "      <td>-6.430976e-01</td>\n",
              "      <td>...</td>\n",
              "      <td>-2.283949e-01</td>\n",
              "      <td>-5.423504e-01</td>\n",
              "      <td>-1.618463e-01</td>\n",
              "      <td>-3.545861e-01</td>\n",
              "      <td>-3.171451e-01</td>\n",
              "      <td>-3.269839e-01</td>\n",
              "      <td>-7.083953e-02</td>\n",
              "      <td>-5.295979e-02</td>\n",
              "      <td>5.600000</td>\n",
              "      <td>0.000000</td>\n",
              "    </tr>\n",
              "    <tr>\n",
              "      <th>50%</th>\n",
              "      <td>84692.000000</td>\n",
              "      <td>1.810880e-02</td>\n",
              "      <td>6.548556e-02</td>\n",
              "      <td>1.798463e-01</td>\n",
              "      <td>-1.984653e-02</td>\n",
              "      <td>-5.433583e-02</td>\n",
              "      <td>-2.741871e-01</td>\n",
              "      <td>4.010308e-02</td>\n",
              "      <td>2.235804e-02</td>\n",
              "      <td>-5.142873e-02</td>\n",
              "      <td>...</td>\n",
              "      <td>-2.945017e-02</td>\n",
              "      <td>6.781943e-03</td>\n",
              "      <td>-1.119293e-02</td>\n",
              "      <td>4.097606e-02</td>\n",
              "      <td>1.659350e-02</td>\n",
              "      <td>-5.213911e-02</td>\n",
              "      <td>1.342146e-03</td>\n",
              "      <td>1.124383e-02</td>\n",
              "      <td>22.000000</td>\n",
              "      <td>0.000000</td>\n",
              "    </tr>\n",
              "    <tr>\n",
              "      <th>75%</th>\n",
              "      <td>139320.500000</td>\n",
              "      <td>1.315642e+00</td>\n",
              "      <td>8.037239e-01</td>\n",
              "      <td>1.027196e+00</td>\n",
              "      <td>7.433413e-01</td>\n",
              "      <td>6.119264e-01</td>\n",
              "      <td>3.985649e-01</td>\n",
              "      <td>5.704361e-01</td>\n",
              "      <td>3.273459e-01</td>\n",
              "      <td>5.971390e-01</td>\n",
              "      <td>...</td>\n",
              "      <td>1.863772e-01</td>\n",
              "      <td>5.285536e-01</td>\n",
              "      <td>1.476421e-01</td>\n",
              "      <td>4.395266e-01</td>\n",
              "      <td>3.507156e-01</td>\n",
              "      <td>2.409522e-01</td>\n",
              "      <td>9.104512e-02</td>\n",
              "      <td>7.827995e-02</td>\n",
              "      <td>77.165000</td>\n",
              "      <td>0.000000</td>\n",
              "    </tr>\n",
              "    <tr>\n",
              "      <th>max</th>\n",
              "      <td>172792.000000</td>\n",
              "      <td>2.454930e+00</td>\n",
              "      <td>2.205773e+01</td>\n",
              "      <td>9.382558e+00</td>\n",
              "      <td>1.687534e+01</td>\n",
              "      <td>3.480167e+01</td>\n",
              "      <td>7.330163e+01</td>\n",
              "      <td>1.205895e+02</td>\n",
              "      <td>2.000721e+01</td>\n",
              "      <td>1.559499e+01</td>\n",
              "      <td>...</td>\n",
              "      <td>2.720284e+01</td>\n",
              "      <td>1.050309e+01</td>\n",
              "      <td>2.252841e+01</td>\n",
              "      <td>4.584549e+00</td>\n",
              "      <td>7.519589e+00</td>\n",
              "      <td>3.517346e+00</td>\n",
              "      <td>3.161220e+01</td>\n",
              "      <td>3.384781e+01</td>\n",
              "      <td>25691.160000</td>\n",
              "      <td>1.000000</td>\n",
              "    </tr>\n",
              "  </tbody>\n",
              "</table>\n",
              "<p>8 rows × 31 columns</p>\n",
              "</div>\n",
              "      <button class=\"colab-df-convert\" onclick=\"convertToInteractive('df-00bc499c-e7e7-48e6-99f0-2d1fca89c2ef')\"\n",
              "              title=\"Convert this dataframe to an interactive table.\"\n",
              "              style=\"display:none;\">\n",
              "        \n",
              "  <svg xmlns=\"http://www.w3.org/2000/svg\" height=\"24px\"viewBox=\"0 0 24 24\"\n",
              "       width=\"24px\">\n",
              "    <path d=\"M0 0h24v24H0V0z\" fill=\"none\"/>\n",
              "    <path d=\"M18.56 5.44l.94 2.06.94-2.06 2.06-.94-2.06-.94-.94-2.06-.94 2.06-2.06.94zm-11 1L8.5 8.5l.94-2.06 2.06-.94-2.06-.94L8.5 2.5l-.94 2.06-2.06.94zm10 10l.94 2.06.94-2.06 2.06-.94-2.06-.94-.94-2.06-.94 2.06-2.06.94z\"/><path d=\"M17.41 7.96l-1.37-1.37c-.4-.4-.92-.59-1.43-.59-.52 0-1.04.2-1.43.59L10.3 9.45l-7.72 7.72c-.78.78-.78 2.05 0 2.83L4 21.41c.39.39.9.59 1.41.59.51 0 1.02-.2 1.41-.59l7.78-7.78 2.81-2.81c.8-.78.8-2.07 0-2.86zM5.41 20L4 18.59l7.72-7.72 1.47 1.35L5.41 20z\"/>\n",
              "  </svg>\n",
              "      </button>\n",
              "      \n",
              "  <style>\n",
              "    .colab-df-container {\n",
              "      display:flex;\n",
              "      flex-wrap:wrap;\n",
              "      gap: 12px;\n",
              "    }\n",
              "\n",
              "    .colab-df-convert {\n",
              "      background-color: #E8F0FE;\n",
              "      border: none;\n",
              "      border-radius: 50%;\n",
              "      cursor: pointer;\n",
              "      display: none;\n",
              "      fill: #1967D2;\n",
              "      height: 32px;\n",
              "      padding: 0 0 0 0;\n",
              "      width: 32px;\n",
              "    }\n",
              "\n",
              "    .colab-df-convert:hover {\n",
              "      background-color: #E2EBFA;\n",
              "      box-shadow: 0px 1px 2px rgba(60, 64, 67, 0.3), 0px 1px 3px 1px rgba(60, 64, 67, 0.15);\n",
              "      fill: #174EA6;\n",
              "    }\n",
              "\n",
              "    [theme=dark] .colab-df-convert {\n",
              "      background-color: #3B4455;\n",
              "      fill: #D2E3FC;\n",
              "    }\n",
              "\n",
              "    [theme=dark] .colab-df-convert:hover {\n",
              "      background-color: #434B5C;\n",
              "      box-shadow: 0px 1px 3px 1px rgba(0, 0, 0, 0.15);\n",
              "      filter: drop-shadow(0px 1px 2px rgba(0, 0, 0, 0.3));\n",
              "      fill: #FFFFFF;\n",
              "    }\n",
              "  </style>\n",
              "\n",
              "      <script>\n",
              "        const buttonEl =\n",
              "          document.querySelector('#df-00bc499c-e7e7-48e6-99f0-2d1fca89c2ef button.colab-df-convert');\n",
              "        buttonEl.style.display =\n",
              "          google.colab.kernel.accessAllowed ? 'block' : 'none';\n",
              "\n",
              "        async function convertToInteractive(key) {\n",
              "          const element = document.querySelector('#df-00bc499c-e7e7-48e6-99f0-2d1fca89c2ef');\n",
              "          const dataTable =\n",
              "            await google.colab.kernel.invokeFunction('convertToInteractive',\n",
              "                                                     [key], {});\n",
              "          if (!dataTable) return;\n",
              "\n",
              "          const docLinkHtml = 'Like what you see? Visit the ' +\n",
              "            '<a target=\"_blank\" href=https://colab.research.google.com/notebooks/data_table.ipynb>data table notebook</a>'\n",
              "            + ' to learn more about interactive tables.';\n",
              "          element.innerHTML = '';\n",
              "          dataTable['output_type'] = 'display_data';\n",
              "          await google.colab.output.renderOutput(dataTable, element);\n",
              "          const docLink = document.createElement('div');\n",
              "          docLink.innerHTML = docLinkHtml;\n",
              "          element.appendChild(docLink);\n",
              "        }\n",
              "      </script>\n",
              "    </div>\n",
              "  </div>\n",
              "  "
            ]
          },
          "metadata": {},
          "execution_count": 12
        }
      ],
      "source": [
        "# analisando o resumo estatístico das variáveis\n",
        "df.describe()"
      ]
    },
    {
      "cell_type": "markdown",
      "metadata": {
        "id": "Qul7sWMnLQQZ"
      },
      "source": [
        "Analisando as váriaveis que passaram pela transformação PCA, aparentemente não apresentam nenhuma discrepância. O mesmo acontece com a variável **Time**.\n",
        "\n",
        "No caso da variável **Amount**, nota-se que:\n",
        "* A média das transações tem o valor de 88.34\n",
        "* A mediana tem o valor de 22.00\n",
        "* O desvio padrão está em 250.12\n",
        "* 75% dos valores para baixo é de 77.16\n",
        "* O valor máximo de uma transação é de 25691.16\n",
        "\n",
        "Ou seja, a maioria das transações são feitas com valores baixos."
      ]
    },
    {
      "cell_type": "code",
      "execution_count": null,
      "metadata": {
        "colab": {
          "base_uri": "https://localhost:8080/"
        },
        "id": "mD8s6aXPpaSq",
        "outputId": "ed2262f4-1ded-42c9-81ac-ca313ad07e86"
      },
      "outputs": [
        {
          "output_type": "stream",
          "name": "stdout",
          "text": [
            "<class 'pandas.core.frame.DataFrame'>\n",
            "RangeIndex: 284807 entries, 0 to 284806\n",
            "Data columns (total 31 columns):\n",
            " #   Column  Non-Null Count   Dtype  \n",
            "---  ------  --------------   -----  \n",
            " 0   Time    284807 non-null  float64\n",
            " 1   V1      284807 non-null  float64\n",
            " 2   V2      284807 non-null  float64\n",
            " 3   V3      284807 non-null  float64\n",
            " 4   V4      284807 non-null  float64\n",
            " 5   V5      284807 non-null  float64\n",
            " 6   V6      284807 non-null  float64\n",
            " 7   V7      284807 non-null  float64\n",
            " 8   V8      284807 non-null  float64\n",
            " 9   V9      284807 non-null  float64\n",
            " 10  V10     284807 non-null  float64\n",
            " 11  V11     284807 non-null  float64\n",
            " 12  V12     284807 non-null  float64\n",
            " 13  V13     284807 non-null  float64\n",
            " 14  V14     284807 non-null  float64\n",
            " 15  V15     284807 non-null  float64\n",
            " 16  V16     284807 non-null  float64\n",
            " 17  V17     284807 non-null  float64\n",
            " 18  V18     284807 non-null  float64\n",
            " 19  V19     284807 non-null  float64\n",
            " 20  V20     284807 non-null  float64\n",
            " 21  V21     284807 non-null  float64\n",
            " 22  V22     284807 non-null  float64\n",
            " 23  V23     284807 non-null  float64\n",
            " 24  V24     284807 non-null  float64\n",
            " 25  V25     284807 non-null  float64\n",
            " 26  V26     284807 non-null  float64\n",
            " 27  V27     284807 non-null  float64\n",
            " 28  V28     284807 non-null  float64\n",
            " 29  Amount  284807 non-null  float64\n",
            " 30  Class   284807 non-null  int64  \n",
            "dtypes: float64(30), int64(1)\n",
            "memory usage: 67.4 MB\n"
          ]
        }
      ],
      "source": [
        "# verificando os tipos de dados e valores ausentes no dataset\n",
        "df.info()"
      ]
    },
    {
      "cell_type": "code",
      "execution_count": null,
      "metadata": {
        "colab": {
          "base_uri": "https://localhost:8080/"
        },
        "id": "4fhYgcTSqQzI",
        "outputId": "133fa333-1bf4-4bfe-931d-dd9f1dbcba7b"
      },
      "outputs": [
        {
          "output_type": "execute_result",
          "data": {
            "text/plain": [
              "0"
            ]
          },
          "metadata": {},
          "execution_count": 14
        }
      ],
      "source": [
        "# verificando os valores ausentes\n",
        "df.isnull().sum().max()"
      ]
    },
    {
      "cell_type": "markdown",
      "metadata": {
        "id": "uG-HjraxNEbT"
      },
      "source": [
        "Uma coisa boa é que não há valores ausentes neste dataset, isso significa que não precisamos nos preocupar em tratar estes dados.\n",
        "\n",
        "Outro ponto é que todas as colunas possuem tipos de dados *float*, com excessão a coluna **\"Class\"** que possui tipo *int*.\n",
        "\n",
        "Analisarei a coluna **Class** para saber como os dados estão classificados."
      ]
    },
    {
      "cell_type": "code",
      "execution_count": null,
      "metadata": {
        "colab": {
          "base_uri": "https://localhost:8080/"
        },
        "id": "YuIz1QZKpUdb",
        "outputId": "acc884fe-8358-4f46-92c7-c763b59d8d98"
      },
      "outputs": [
        {
          "output_type": "execute_result",
          "data": {
            "text/plain": [
              "0    284315\n",
              "1       492\n",
              "Name: Class, dtype: int64"
            ]
          },
          "metadata": {},
          "execution_count": 15
        }
      ],
      "source": [
        "# verificando a coluna Class\n",
        "df['Class'].value_counts()"
      ]
    },
    {
      "cell_type": "markdown",
      "metadata": {
        "id": "g7bukZbuqri_"
      },
      "source": [
        "Veja que na coluna **Class** temos 284.315 valores classificados como 0, indicando que não há fraude, e apenas 492 classificados como 1, havendo fraude.\n",
        "\n",
        "Plotarei um gráfico de barras para ver como está o balanceamento da coluna **Class** e também um histograma para analisar como estas transações estão distribuídas na variável **Time**."
      ]
    },
    {
      "cell_type": "code",
      "execution_count": null,
      "metadata": {
        "colab": {
          "base_uri": "https://localhost:8080/",
          "height": 447
        },
        "id": "NDjpFAYkwAfU",
        "outputId": "413842a0-d063-49dc-a243-7ba8a02ad1f0"
      },
      "outputs": [
        {
          "output_type": "display_data",
          "data": {
            "text/plain": [
              "<Figure size 640x480 with 1 Axes>"
            ],
            "image/png": "[encoded data removed]"
          },
          "metadata": {}
        }
      ],
      "source": [
        "# plotando o balanceamento das classes\n",
        "fig, ax = plt.subplots()\n",
        "\n",
        "df.Class.value_counts().plot(kind='bar', ax=ax)\n",
        "ax.set_title('Balanceamento das Classes')\n",
        "\n",
        "plt.show();"
      ]
    },
    {
      "cell_type": "code",
      "execution_count": null,
      "metadata": {
        "colab": {
          "base_uri": "https://localhost:8080/"
        },
        "id": "mN79ZgPeykRY",
        "outputId": "ac574d44-08f4-45fb-f047-5fb0e4ee8aac"
      },
      "outputs": [
        {
          "output_type": "stream",
          "name": "stdout",
          "text": [
            "Porcentagem de fraudes: 0.17\n"
          ]
        }
      ],
      "source": [
        "# verificando a porcentagem de fraudes\n",
        "fraudes = (df.Class.value_counts()[1]/df.shape[0])*100\n",
        "print('Porcentagem de fraudes: {:.2}'.format(fraudes))"
      ]
    },
    {
      "cell_type": "markdown",
      "metadata": {
        "id": "dLfe552RttZb"
      },
      "source": [
        "Com o gráfico acima posso notar um desbalanceamento muito grande nos dados da variável **Class**, mostrando que apenas 0.17% dos dados estão classificados como fraudes, isso pode prejudicar muito o resultado final do modelo de Machine Learning.\n",
        "\n",
        "Mais adiante farei o balanceamento dos dados para introduzi-los no modelo."
      ]
    },
    {
      "cell_type": "code",
      "execution_count": null,
      "metadata": {
        "colab": {
          "base_uri": "https://localhost:8080/",
          "height": 507
        },
        "id": "qFaxKv7auNGq",
        "outputId": "0f212d92-5867-4bce-b24f-aed45da6a2b0"
      },
      "outputs": [
        {
          "output_type": "display_data",
          "data": {
            "text/plain": [
              "<Figure size 1000x500 with 2 Axes>"
            ],
            "image/png": "[encoded data removed]"
          },
          "metadata": {}
        }
      ],
      "source": [
        "# plotado um histograma para variável Time\n",
        "fig, ax = plt.subplots(nrows=2, ncols=1, figsize=(10, 5))\n",
        "num_bins = 50\n",
        "\n",
        "ax[0].hist(df.Time[df.Class==0], bins=num_bins)\n",
        "ax[0].set_title('Transação Normal')\n",
        "\n",
        "ax[1].hist(df.Time[df.Class==1], bins=num_bins)\n",
        "ax[1].set_title('Transação Fraudulenta')\n",
        "ax[1].set_ylabel('Transações')\n",
        "ax[1].set_xlabel('Tempo')\n",
        "\n",
        "plt.tight_layout()"
      ]
    },
    {
      "cell_type": "markdown",
      "metadata": {
        "id": "xsb7Qp2lsdlf"
      },
      "source": [
        "Analisando os dois gráficos, nota-se uma distribuição diferente nos dados de transações normais e fraudes, o que pode ajudar no treinamento do modelo de Machine Learning.\n",
        "\n",
        "Agora vou analidar a variável Amount, para entender se há presença de outliers nos dados."
      ]
    },
    {
      "cell_type": "code",
      "execution_count": null,
      "metadata": {
        "colab": {
          "base_uri": "https://localhost:8080/",
          "height": 607
        },
        "id": "I033lG8hz4r7",
        "outputId": "6558c901-9735-4e0e-8a98-a92611cf666d"
      },
      "outputs": [
        {
          "output_type": "display_data",
          "data": {
            "text/plain": [
              "<Figure size 600x600 with 1 Axes>"
            ],
            "image/png": "[encoded data removed]"
          },
          "metadata": {}
        }
      ],
      "source": [
        "# plotando um boxplot para variável Amount\n",
        "fig, ax = plt.subplots(nrows=1, ncols=1, figsize=(6,6))  \n",
        "\n",
        "sns.boxplot(df.Amount, ax=ax, showmeans=True)\n",
        "\n",
        "plt.tight_layout()\n",
        "plt.show()"
      ]
    },
    {
      "cell_type": "markdown",
      "source": [
        "Neste gráfico consigo perceber presença de outliers na variável **Amount**."
      ],
      "metadata": {
        "id": "mBZZY7hH4--H"
      }
    },
    {
      "cell_type": "code",
      "source": [
        "# plotando um boxplot para análise das classificações\n",
        "fig, ax = plt.subplots(figsize=(6,6))\n",
        "\n",
        "sns.boxplot(x=df.Class, y=df.Amount, showmeans=True, ax=ax)\n",
        "plt.ylim((-20, 400))\n",
        "plt.xticks([0, 1], ['Normal', 'Fraude'])\n",
        "\n",
        "plt.tight_layout()\n",
        "plt.show()"
      ],
      "metadata": {
        "colab": {
          "base_uri": "https://localhost:8080/",
          "height": 606
        },
        "id": "e7FgN-gayPEy",
        "outputId": "d922565d-2d79-4e17-c543-8dec94e97dcf"
      },
      "execution_count": null,
      "outputs": [
        {
          "output_type": "display_data",
          "data": {
            "text/plain": [
              "<Figure size 600x600 with 1 Axes>"
            ],
            "image/png": "[encoded data removed]"
          },
          "metadata": {}
        }
      ]
    },
    {
      "cell_type": "markdown",
      "metadata": {
        "id": "H281-j0l8wp-"
      },
      "source": [
        "Observando este boxplot, pode-se notar que existe uma grande presença de outliers nos valores na variável **Class**, tanto para classificação normal, quanto para fraude.\n",
        "\n",
        "Será preciso também padronizar as colunas *Time* e *Amount* para fazer as previsões com maior precisão.\n",
        "\n",
        "Agora vou plotar um histograma para verificar os valores fraudulentos mais frequentes, sendo **Class = 1**."
      ]
    },
    {
      "cell_type": "code",
      "execution_count": null,
      "metadata": {
        "colab": {
          "base_uri": "https://localhost:8080/",
          "height": 430
        },
        "id": "7ibw_-dA5j3r",
        "outputId": "1a6d0597-6766-4b08-d2e6-254b72fcc77d"
      },
      "outputs": [
        {
          "output_type": "display_data",
          "data": {
            "text/plain": [
              "<Figure size 640x480 with 1 Axes>"
            ],
            "image/png": "[encoded data removed]"
          },
          "metadata": {}
        }
      ],
      "source": [
        "# plotando um histograma para variável Amount\n",
        "df.Amount.loc[df.Class==1].hist();"
      ]
    },
    {
      "cell_type": "markdown",
      "metadata": {
        "id": "hihxqEnH9uLQ"
      },
      "source": [
        "Com este histograma, fica nítido que a grande parte das fraudes estão entre 0 e 500, ou seja, a maior parte das transações fraudulentas são de baixo valor."
      ]
    },
    {
      "cell_type": "code",
      "source": [
        "# verificando os valores estatísticos classificados como fraudulentos\n",
        "df.Amount.loc[df.Class==1].describe()"
      ],
      "metadata": {
        "colab": {
          "base_uri": "https://localhost:8080/"
        },
        "id": "lQcEYzrz2kZc",
        "outputId": "41922f3f-d548-4305-b4ba-4797e79b9025"
      },
      "execution_count": null,
      "outputs": [
        {
          "output_type": "execute_result",
          "data": {
            "text/plain": [
              "count     492.000000\n",
              "mean      122.211321\n",
              "std       256.683288\n",
              "min         0.000000\n",
              "25%         1.000000\n",
              "50%         9.250000\n",
              "75%       105.890000\n",
              "max      2125.870000\n",
              "Name: Amount, dtype: float64"
            ]
          },
          "metadata": {},
          "execution_count": 22
        }
      ]
    },
    {
      "cell_type": "code",
      "execution_count": null,
      "metadata": {
        "colab": {
          "base_uri": "https://localhost:8080/"
        },
        "id": "q2YtVmQRAJS8",
        "outputId": "646b1e4a-00bb-4066-8196-c9d1c28fa099"
      },
      "outputs": [
        {
          "output_type": "stream",
          "name": "stdout",
          "text": [
            "Total de valores fraudulentos: 60127.97\n"
          ]
        }
      ],
      "source": [
        "# verificando a soma dos valores fraudulentos\n",
        "tot_fraudes = df.Amount.loc[df.Class==1].sum()\n",
        "print('Total de valores fraudulentos: {}'.format(tot_fraudes))"
      ]
    },
    {
      "cell_type": "markdown",
      "source": [
        "Nesta análise de valores fraudulentos, informei a coluna *Amount* (valor) e busquei por valores cuja classificação é igual a **1 (fraude)**.\n",
        "\n",
        "Podemos tirar alguns insights sobre os valores classificados como fraudes:\n",
        "* 75% dos valores  são abaixo de 105.89\n",
        "* A média dos valores está em 122.21 e a mediana em 9.25\n",
        "* Seu valor máximo é de 2125.87, fazendo com que a média suba, aumentando o desvio padrão dos dados.\n",
        "* A soma do prejuízo que a empresa está levando é de 60127.97\n",
        "\n",
        "Com a análise exploratória dos dados feita, vou agora iniciar o processo para criação dos modelos de Machine Learning, a fim de otimizar a detecção de fraudes em cartões de crédito, para que a empresa não leve prejuízos e o cliente se sinta mais seguro ao fazer uma transação financeira."
      ],
      "metadata": {
        "id": "w5UMYeXQ283b"
      }
    },
    {
      "cell_type": "markdown",
      "metadata": {
        "id": "rTerMbaLv_HC"
      },
      "source": [
        "## Criando uma amostra para Teste\n",
        "\n",
        "Separarei os dados para treino e teste em 80/20 com a função *split*, para que não haja vazamento dos dados, e guardar os dados de teste para serem utilizados no final do modelo."
      ]
    },
    {
      "cell_type": "code",
      "execution_count": null,
      "metadata": {
        "colab": {
          "base_uri": "https://localhost:8080/"
        },
        "id": "Am4F82Q44b9q",
        "outputId": "67044ff9-a218-4e76-b5b7-1f956b304a8e"
      },
      "outputs": [
        {
          "output_type": "stream",
          "name": "stdout",
          "text": [
            "Tamanho do dataset original: (284807, 31)\n",
            "Tamanho do dataset de treino: (227846, 31)\n",
            "Tamanho do dataset de teste: (56961, 31)\n"
          ]
        }
      ],
      "source": [
        "# tamanho do dataset verdadeiro\n",
        "print('Tamanho do dataset original: {}'.format(df.shape))\n",
        "\n",
        "# criando uma amostra de teste com 20% dos dados verdadeiros\n",
        "teste = df.sample(frac=0.20, random_state=0)\n",
        "\n",
        "# drop nos dados de teste no dataset verdadeiro\n",
        "df = df.drop(teste.index)\n",
        "df.shape\n",
        "\n",
        "# comparando os conjuntos de dados\n",
        "print('Tamanho do dataset de treino: {}'.format(df.shape))\n",
        "print('Tamanho do dataset de teste: {}'.format(teste.shape))\n"
      ]
    },
    {
      "cell_type": "markdown",
      "metadata": {
        "id": "6ZHzoAT9Dhwg"
      },
      "source": [
        "Veja que agora não temos mais 284807 entradas, e sim 227846 para *treino* e 56961 para *teste*. A amostra de teste contendo 20% do dataset original foi eliminada para não haver duplicidade nos dados.\n",
        "\n",
        "Agora vou resetar o index dos datasets."
      ]
    },
    {
      "cell_type": "code",
      "execution_count": null,
      "metadata": {
        "colab": {
          "base_uri": "https://localhost:8080/",
          "height": 487
        },
        "id": "sqP2N-_6E9Ls",
        "outputId": "a5aa208c-3ec1-436e-9c1b-9bfd14fc69de"
      },
      "outputs": [
        {
          "output_type": "execute_result",
          "data": {
            "text/plain": [
              "        index      Time        V1        V2        V3        V4        V5  \\\n",
              "0      183484  125821.0 -0.323334  1.057455 -0.048341 -0.607204  1.259821   \n",
              "1      255448  157235.0 -0.349718  0.932619  0.142992 -0.657071  1.169784   \n",
              "2      244749  152471.0 -1.614711 -2.406570  0.326194  0.665520  2.369268   \n",
              "3       63919   50927.0 -2.477184  0.860613  1.441850  1.051019 -1.856621   \n",
              "4       11475   19899.0  1.338831 -0.547264  0.737389 -0.212383 -1.110039   \n",
              "...       ...       ...       ...       ...       ...       ...       ...   \n",
              "56956  197932  132242.0 -2.553810 -0.083991 -1.936271 -1.333610  1.151432   \n",
              "56957  236778  148949.0 -1.227033  0.987207  0.654979 -2.559724  0.346834   \n",
              "56958  127073   78200.0  1.250596  0.159552  0.147621  0.472220 -0.023937   \n",
              "56959  208502  137149.0  1.125402 -2.288998 -3.123785 -0.103566 -0.311680   \n",
              "56960  263323  160893.0  2.064857  0.285198 -2.487311  0.357674  0.965436   \n",
              "\n",
              "             V6        V7        V8  ...       V21       V22       V23  \\\n",
              "0     -0.091761  1.159101 -0.124335  ... -0.207098 -0.433890 -0.261613   \n",
              "1     -0.733369  1.009985 -0.071069  ... -0.271537 -0.833209 -0.030360   \n",
              "2     -1.775367 -1.139049  0.329904  ...  0.701399  1.134489  0.965054   \n",
              "3      2.078384  0.510828 -0.243399  ...  0.810408  0.692245  0.150121   \n",
              "4     -0.525744 -0.801403 -0.063672  ... -0.139436 -0.074719  0.067055   \n",
              "...         ...       ...       ...  ...       ...       ...       ...   \n",
              "56956 -1.256007  0.601789  0.309391  ...  0.094768  1.383915  0.429534   \n",
              "56957 -0.634095  0.738285  0.405477  ... -0.070342 -0.293542 -0.371721   \n",
              "56958 -0.287444  0.021041 -0.041342  ... -0.210083 -0.580817  0.049119   \n",
              "56959 -1.151728  1.184200 -0.635862  ...  0.263259  0.020985 -0.636845   \n",
              "56960 -0.971181  0.622246 -0.313264  ...  0.090425  0.422986 -0.019409   \n",
              "\n",
              "            V24       V25       V26       V27       V28  Amount  Class  \n",
              "0     -0.046651  0.211512  0.008297  0.108494  0.161139   40.00      0  \n",
              "1      0.490035 -0.404816  0.134350  0.076830  0.175562    1.98      0  \n",
              "2      0.640981 -1.801998 -1.041114  0.286285  0.437322   96.00      0  \n",
              "3     -0.260777  0.005183 -0.177847 -0.510060 -0.660533  308.00      0  \n",
              "4      0.333122  0.379087 -0.268706 -0.002769  0.003272    5.00      0  \n",
              "...         ...       ...       ...       ...       ...     ...    ...  \n",
              "56956  0.319040  1.896602  0.245503  0.091951 -0.242711   33.24      0  \n",
              "56957  0.518298  0.858450  0.749546  0.011475  0.027130   20.30      0  \n",
              "56958 -0.429060  0.299309  0.234803 -0.022217  0.006667    6.15      0  \n",
              "56959 -0.259110  0.272149  0.961966 -0.240867 -0.007494  583.21      0  \n",
              "56960  0.691878  0.354898  0.662896 -0.103162 -0.061743    2.95      0  \n",
              "\n",
              "[56961 rows x 32 columns]"
            ],
            "text/html": [
              "\n",
              "  <div id=\"df-4cb416f5-7a7f-4bc3-b428-5be5375acc46\">\n",
              "    <div class=\"colab-df-container\">\n",
              "      <div>\n",
              "<style scoped>\n",
              "    .dataframe tbody tr th:only-of-type {\n",
              "        vertical-align: middle;\n",
              "    }\n",
              "\n",
              "    .dataframe tbody tr th {\n",
              "        vertical-align: top;\n",
              "    }\n",
              "\n",
              "    .dataframe thead th {\n",
              "        text-align: right;\n",
              "    }\n",
              "</style>\n",
              "<table border=\"1\" class=\"dataframe\">\n",
              "  <thead>\n",
              "    <tr style=\"text-align: right;\">\n",
              "      <th></th>\n",
              "      <th>index</th>\n",
              "      <th>Time</th>\n",
              "      <th>V1</th>\n",
              "      <th>V2</th>\n",
              "      <th>V3</th>\n",
              "      <th>V4</th>\n",
              "      <th>V5</th>\n",
              "      <th>V6</th>\n",
              "      <th>V7</th>\n",
              "      <th>V8</th>\n",
              "      <th>...</th>\n",
              "      <th>V21</th>\n",
              "      <th>V22</th>\n",
              "      <th>V23</th>\n",
              "      <th>V24</th>\n",
              "      <th>V25</th>\n",
              "      <th>V26</th>\n",
              "      <th>V27</th>\n",
              "      <th>V28</th>\n",
              "      <th>Amount</th>\n",
              "      <th>Class</th>\n",
              "    </tr>\n",
              "  </thead>\n",
              "  <tbody>\n",
              "    <tr>\n",
              "      <th>0</th>\n",
              "      <td>183484</td>\n",
              "      <td>125821.0</td>\n",
              "      <td>-0.323334</td>\n",
              "      <td>1.057455</td>\n",
              "      <td>-0.048341</td>\n",
              "      <td>-0.607204</td>\n",
              "      <td>1.259821</td>\n",
              "      <td>-0.091761</td>\n",
              "      <td>1.159101</td>\n",
              "      <td>-0.124335</td>\n",
              "      <td>...</td>\n",
              "      <td>-0.207098</td>\n",
              "      <td>-0.433890</td>\n",
              "      <td>-0.261613</td>\n",
              "      <td>-0.046651</td>\n",
              "      <td>0.211512</td>\n",
              "      <td>0.008297</td>\n",
              "      <td>0.108494</td>\n",
              "      <td>0.161139</td>\n",
              "      <td>40.00</td>\n",
              "      <td>0</td>\n",
              "    </tr>\n",
              "    <tr>\n",
              "      <th>1</th>\n",
              "      <td>255448</td>\n",
              "      <td>157235.0</td>\n",
              "      <td>-0.349718</td>\n",
              "      <td>0.932619</td>\n",
              "      <td>0.142992</td>\n",
              "      <td>-0.657071</td>\n",
              "      <td>1.169784</td>\n",
              "      <td>-0.733369</td>\n",
              "      <td>1.009985</td>\n",
              "      <td>-0.071069</td>\n",
              "      <td>...</td>\n",
              "      <td>-0.271537</td>\n",
              "      <td>-0.833209</td>\n",
              "      <td>-0.030360</td>\n",
              "      <td>0.490035</td>\n",
              "      <td>-0.404816</td>\n",
              "      <td>0.134350</td>\n",
              "      <td>0.076830</td>\n",
              "      <td>0.175562</td>\n",
              "      <td>1.98</td>\n",
              "      <td>0</td>\n",
              "    </tr>\n",
              "    <tr>\n",
              "      <th>2</th>\n",
              "      <td>244749</td>\n",
              "      <td>152471.0</td>\n",
              "      <td>-1.614711</td>\n",
              "      <td>-2.406570</td>\n",
              "      <td>0.326194</td>\n",
              "      <td>0.665520</td>\n",
              "      <td>2.369268</td>\n",
              "      <td>-1.775367</td>\n",
              "      <td>-1.139049</td>\n",
              "      <td>0.329904</td>\n",
              "      <td>...</td>\n",
              "      <td>0.701399</td>\n",
              "      <td>1.134489</td>\n",
              "      <td>0.965054</td>\n",
              "      <td>0.640981</td>\n",
              "      <td>-1.801998</td>\n",
              "      <td>-1.041114</td>\n",
              "      <td>0.286285</td>\n",
              "      <td>0.437322</td>\n",
              "      <td>96.00</td>\n",
              "      <td>0</td>\n",
              "    </tr>\n",
              "    <tr>\n",
              "      <th>3</th>\n",
              "      <td>63919</td>\n",
              "      <td>50927.0</td>\n",
              "      <td>-2.477184</td>\n",
              "      <td>0.860613</td>\n",
              "      <td>1.441850</td>\n",
              "      <td>1.051019</td>\n",
              "      <td>-1.856621</td>\n",
              "      <td>2.078384</td>\n",
              "      <td>0.510828</td>\n",
              "      <td>-0.243399</td>\n",
              "      <td>...</td>\n",
              "      <td>0.810408</td>\n",
              "      <td>0.692245</td>\n",
              "      <td>0.150121</td>\n",
              "      <td>-0.260777</td>\n",
              "      <td>0.005183</td>\n",
              "      <td>-0.177847</td>\n",
              "      <td>-0.510060</td>\n",
              "      <td>-0.660533</td>\n",
              "      <td>308.00</td>\n",
              "      <td>0</td>\n",
              "    </tr>\n",
              "    <tr>\n",
              "      <th>4</th>\n",
              "      <td>11475</td>\n",
              "      <td>19899.0</td>\n",
              "      <td>1.338831</td>\n",
              "      <td>-0.547264</td>\n",
              "      <td>0.737389</td>\n",
              "      <td>-0.212383</td>\n",
              "      <td>-1.110039</td>\n",
              "      <td>-0.525744</td>\n",
              "      <td>-0.801403</td>\n",
              "      <td>-0.063672</td>\n",
              "      <td>...</td>\n",
              "      <td>-0.139436</td>\n",
              "      <td>-0.074719</td>\n",
              "      <td>0.067055</td>\n",
              "      <td>0.333122</td>\n",
              "      <td>0.379087</td>\n",
              "      <td>-0.268706</td>\n",
              "      <td>-0.002769</td>\n",
              "      <td>0.003272</td>\n",
              "      <td>5.00</td>\n",
              "      <td>0</td>\n",
              "    </tr>\n",
              "    <tr>\n",
              "      <th>...</th>\n",
              "      <td>...</td>\n",
              "      <td>...</td>\n",
              "      <td>...</td>\n",
              "      <td>...</td>\n",
              "      <td>...</td>\n",
              "      <td>...</td>\n",
              "      <td>...</td>\n",
              "      <td>...</td>\n",
              "      <td>...</td>\n",
              "      <td>...</td>\n",
              "      <td>...</td>\n",
              "      <td>...</td>\n",
              "      <td>...</td>\n",
              "      <td>...</td>\n",
              "      <td>...</td>\n",
              "      <td>...</td>\n",
              "      <td>...</td>\n",
              "      <td>...</td>\n",
              "      <td>...</td>\n",
              "      <td>...</td>\n",
              "      <td>...</td>\n",
              "    </tr>\n",
              "    <tr>\n",
              "      <th>56956</th>\n",
              "      <td>197932</td>\n",
              "      <td>132242.0</td>\n",
              "      <td>-2.553810</td>\n",
              "      <td>-0.083991</td>\n",
              "      <td>-1.936271</td>\n",
              "      <td>-1.333610</td>\n",
              "      <td>1.151432</td>\n",
              "      <td>-1.256007</td>\n",
              "      <td>0.601789</td>\n",
              "      <td>0.309391</td>\n",
              "      <td>...</td>\n",
              "      <td>0.094768</td>\n",
              "      <td>1.383915</td>\n",
              "      <td>0.429534</td>\n",
              "      <td>0.319040</td>\n",
              "      <td>1.896602</td>\n",
              "      <td>0.245503</td>\n",
              "      <td>0.091951</td>\n",
              "      <td>-0.242711</td>\n",
              "      <td>33.24</td>\n",
              "      <td>0</td>\n",
              "    </tr>\n",
              "    <tr>\n",
              "      <th>56957</th>\n",
              "      <td>236778</td>\n",
              "      <td>148949.0</td>\n",
              "      <td>-1.227033</td>\n",
              "      <td>0.987207</td>\n",
              "      <td>0.654979</td>\n",
              "      <td>-2.559724</td>\n",
              "      <td>0.346834</td>\n",
              "      <td>-0.634095</td>\n",
              "      <td>0.738285</td>\n",
              "      <td>0.405477</td>\n",
              "      <td>...</td>\n",
              "      <td>-0.070342</td>\n",
              "      <td>-0.293542</td>\n",
              "      <td>-0.371721</td>\n",
              "      <td>0.518298</td>\n",
              "      <td>0.858450</td>\n",
              "      <td>0.749546</td>\n",
              "      <td>0.011475</td>\n",
              "      <td>0.027130</td>\n",
              "      <td>20.30</td>\n",
              "      <td>0</td>\n",
              "    </tr>\n",
              "    <tr>\n",
              "      <th>56958</th>\n",
              "      <td>127073</td>\n",
              "      <td>78200.0</td>\n",
              "      <td>1.250596</td>\n",
              "      <td>0.159552</td>\n",
              "      <td>0.147621</td>\n",
              "      <td>0.472220</td>\n",
              "      <td>-0.023937</td>\n",
              "      <td>-0.287444</td>\n",
              "      <td>0.021041</td>\n",
              "      <td>-0.041342</td>\n",
              "      <td>...</td>\n",
              "      <td>-0.210083</td>\n",
              "      <td>-0.580817</td>\n",
              "      <td>0.049119</td>\n",
              "      <td>-0.429060</td>\n",
              "      <td>0.299309</td>\n",
              "      <td>0.234803</td>\n",
              "      <td>-0.022217</td>\n",
              "      <td>0.006667</td>\n",
              "      <td>6.15</td>\n",
              "      <td>0</td>\n",
              "    </tr>\n",
              "    <tr>\n",
              "      <th>56959</th>\n",
              "      <td>208502</td>\n",
              "      <td>137149.0</td>\n",
              "      <td>1.125402</td>\n",
              "      <td>-2.288998</td>\n",
              "      <td>-3.123785</td>\n",
              "      <td>-0.103566</td>\n",
              "      <td>-0.311680</td>\n",
              "      <td>-1.151728</td>\n",
              "      <td>1.184200</td>\n",
              "      <td>-0.635862</td>\n",
              "      <td>...</td>\n",
              "      <td>0.263259</td>\n",
              "      <td>0.020985</td>\n",
              "      <td>-0.636845</td>\n",
              "      <td>-0.259110</td>\n",
              "      <td>0.272149</td>\n",
              "      <td>0.961966</td>\n",
              "      <td>-0.240867</td>\n",
              "      <td>-0.007494</td>\n",
              "      <td>583.21</td>\n",
              "      <td>0</td>\n",
              "    </tr>\n",
              "    <tr>\n",
              "      <th>56960</th>\n",
              "      <td>263323</td>\n",
              "      <td>160893.0</td>\n",
              "      <td>2.064857</td>\n",
              "      <td>0.285198</td>\n",
              "      <td>-2.487311</td>\n",
              "      <td>0.357674</td>\n",
              "      <td>0.965436</td>\n",
              "      <td>-0.971181</td>\n",
              "      <td>0.622246</td>\n",
              "      <td>-0.313264</td>\n",
              "      <td>...</td>\n",
              "      <td>0.090425</td>\n",
              "      <td>0.422986</td>\n",
              "      <td>-0.019409</td>\n",
              "      <td>0.691878</td>\n",
              "      <td>0.354898</td>\n",
              "      <td>0.662896</td>\n",
              "      <td>-0.103162</td>\n",
              "      <td>-0.061743</td>\n",
              "      <td>2.95</td>\n",
              "      <td>0</td>\n",
              "    </tr>\n",
              "  </tbody>\n",
              "</table>\n",
              "<p>56961 rows × 32 columns</p>\n",
              "</div>\n",
              "      <button class=\"colab-df-convert\" onclick=\"convertToInteractive('df-4cb416f5-7a7f-4bc3-b428-5be5375acc46')\"\n",
              "              title=\"Convert this dataframe to an interactive table.\"\n",
              "              style=\"display:none;\">\n",
              "        \n",
              "  <svg xmlns=\"http://www.w3.org/2000/svg\" height=\"24px\"viewBox=\"0 0 24 24\"\n",
              "       width=\"24px\">\n",
              "    <path d=\"M0 0h24v24H0V0z\" fill=\"none\"/>\n",
              "    <path d=\"M18.56 5.44l.94 2.06.94-2.06 2.06-.94-2.06-.94-.94-2.06-.94 2.06-2.06.94zm-11 1L8.5 8.5l.94-2.06 2.06-.94-2.06-.94L8.5 2.5l-.94 2.06-2.06.94zm10 10l.94 2.06.94-2.06 2.06-.94-2.06-.94-.94-2.06-.94 2.06-2.06.94z\"/><path d=\"M17.41 7.96l-1.37-1.37c-.4-.4-.92-.59-1.43-.59-.52 0-1.04.2-1.43.59L10.3 9.45l-7.72 7.72c-.78.78-.78 2.05 0 2.83L4 21.41c.39.39.9.59 1.41.59.51 0 1.02-.2 1.41-.59l7.78-7.78 2.81-2.81c.8-.78.8-2.07 0-2.86zM5.41 20L4 18.59l7.72-7.72 1.47 1.35L5.41 20z\"/>\n",
              "  </svg>\n",
              "      </button>\n",
              "      \n",
              "  <style>\n",
              "    .colab-df-container {\n",
              "      display:flex;\n",
              "      flex-wrap:wrap;\n",
              "      gap: 12px;\n",
              "    }\n",
              "\n",
              "    .colab-df-convert {\n",
              "      background-color: #E8F0FE;\n",
              "      border: none;\n",
              "      border-radius: 50%;\n",
              "      cursor: pointer;\n",
              "      display: none;\n",
              "      fill: #1967D2;\n",
              "      height: 32px;\n",
              "      padding: 0 0 0 0;\n",
              "      width: 32px;\n",
              "    }\n",
              "\n",
              "    .colab-df-convert:hover {\n",
              "      background-color: #E2EBFA;\n",
              "      box-shadow: 0px 1px 2px rgba(60, 64, 67, 0.3), 0px 1px 3px 1px rgba(60, 64, 67, 0.15);\n",
              "      fill: #174EA6;\n",
              "    }\n",
              "\n",
              "    [theme=dark] .colab-df-convert {\n",
              "      background-color: #3B4455;\n",
              "      fill: #D2E3FC;\n",
              "    }\n",
              "\n",
              "    [theme=dark] .colab-df-convert:hover {\n",
              "      background-color: #434B5C;\n",
              "      box-shadow: 0px 1px 3px 1px rgba(0, 0, 0, 0.15);\n",
              "      filter: drop-shadow(0px 1px 2px rgba(0, 0, 0, 0.3));\n",
              "      fill: #FFFFFF;\n",
              "    }\n",
              "  </style>\n",
              "\n",
              "      <script>\n",
              "        const buttonEl =\n",
              "          document.querySelector('#df-4cb416f5-7a7f-4bc3-b428-5be5375acc46 button.colab-df-convert');\n",
              "        buttonEl.style.display =\n",
              "          google.colab.kernel.accessAllowed ? 'block' : 'none';\n",
              "\n",
              "        async function convertToInteractive(key) {\n",
              "          const element = document.querySelector('#df-4cb416f5-7a7f-4bc3-b428-5be5375acc46');\n",
              "          const dataTable =\n",
              "            await google.colab.kernel.invokeFunction('convertToInteractive',\n",
              "                                                     [key], {});\n",
              "          if (!dataTable) return;\n",
              "\n",
              "          const docLinkHtml = 'Like what you see? Visit the ' +\n",
              "            '<a target=\"_blank\" href=https://colab.research.google.com/notebooks/data_table.ipynb>data table notebook</a>'\n",
              "            + ' to learn more about interactive tables.';\n",
              "          element.innerHTML = '';\n",
              "          dataTable['output_type'] = 'display_data';\n",
              "          await google.colab.output.renderOutput(dataTable, element);\n",
              "          const docLink = document.createElement('div');\n",
              "          docLink.innerHTML = docLinkHtml;\n",
              "          element.appendChild(docLink);\n",
              "        }\n",
              "      </script>\n",
              "    </div>\n",
              "  </div>\n",
              "  "
            ]
          },
          "metadata": {},
          "execution_count": 25
        }
      ],
      "source": [
        "# resetando o index dos datasets\n",
        "df.reset_index()\n",
        "teste.reset_index()"
      ]
    },
    {
      "cell_type": "markdown",
      "metadata": {
        "id": "agwLyJsNFesO"
      },
      "source": [
        "Com os dados de teste separados e não havendo a necessidade de mais nenhum ajuste ou configuração nesta etapa, iniciarei a preparação dos dados com o objetivo de criar um modelo de Machine Learning que seja capaz de prever uma transação fraudulenta com maior precisão e eficiência.\n",
        "\n"
      ]
    },
    {
      "cell_type": "markdown",
      "metadata": {
        "id": "ULe7z0jZt0EH"
      },
      "source": [
        "## Preparando os Dados\n",
        "\n",
        "Como visto na análise exploratória, o dataset encontra-se desbalanceado, portanto é preciso preparar os dados para que o modelo possa ter uma boa performance.\n",
        "\n",
        "Para isso, realizarei os seguintes passos:\n",
        "\n",
        "* Normalização dos dados para as variáveis *Time* e *Amount*\n",
        "* Divisão do conjunto de dados entre treino e validação\n",
        "* Balanceamento do conjunto de dados"
      ]
    },
    {
      "cell_type": "markdown",
      "metadata": {
        "id": "-H9Yao2bBC3R"
      },
      "source": [
        "## Padronização dos Dados\n",
        "\n",
        "Padronização ou normalização é um processo que transforma os dados em uma escala comum, ajudando a melhorar a eficácia de alguns algorítmos de Machine Learning. Envolve a subtração da média de cada valor nos dados e a divisão pelo desvio padrão, resultando em um conjunto de dados com uma distribuição aproximadamente normal. \n",
        "\n",
        "É útil quando os valores nos dados têm escalas muito diferentes e alguns algorítmos são sensíveis à escala dos dados. Portanto, é uma etapa importante no pré-processamento de dados em Machine Learning e deve ser aplicada com cuidado, dependendo do algorítmo a ser utilizado e das características dos dados.\n",
        "\n",
        "Farei a padronização dos dados nas colunas **Time** e **Amount** em novas colunas **std_amount** e **std_time**, transformando-as no mesmo padrão das demais variáveis do dataset, exceto a variável **Class**.\n",
        "\n",
        "Como a variável **Amount** contém outliers, utilizarei a padronização *StandardScaler*, bastante útil em problemas de regressão linear e a regressão logística para normalizar dados que têm diferentes escalas."
      ]
    },
    {
      "cell_type": "code",
      "execution_count": null,
      "metadata": {
        "id": "KUtJP2Nh4Ivg"
      },
      "outputs": [],
      "source": [
        "# criando uma cópia do dataset original\n",
        "df_new = df.copy()"
      ]
    },
    {
      "cell_type": "code",
      "execution_count": null,
      "metadata": {
        "id": "-AM215Lj5V-0"
      },
      "outputs": [],
      "source": [
        "# importando a biblioteca de padronização\n",
        "from sklearn.preprocessing import StandardScaler\n",
        "\n",
        "# padronizando as colunas Time e Amount em novas colunas\n",
        "std_scaler = StandardScaler()\n",
        "df_new['std_amount'] = std_scaler.fit_transform(df_new.Amount.values.reshape(-1,1))\n",
        "df_new['std_time'] = std_scaler.fit_transform(df_new.Time.values.reshape(-1,1))"
      ]
    },
    {
      "cell_type": "code",
      "execution_count": null,
      "metadata": {
        "colab": {
          "base_uri": "https://localhost:8080/",
          "height": 299
        },
        "id": "iUoBCeVy6i4f",
        "outputId": "17db0fbc-631e-499b-a924-d959eec5233e"
      },
      "outputs": [
        {
          "output_type": "execute_result",
          "data": {
            "text/plain": [
              "         V1        V2        V3        V4        V5        V6        V7  \\\n",
              "0 -1.359807 -0.072781  2.536347  1.378155 -0.338321  0.462388  0.239599   \n",
              "1  1.191857  0.266151  0.166480  0.448154  0.060018 -0.082361 -0.078803   \n",
              "2 -1.358354 -1.340163  1.773209  0.379780 -0.503198  1.800499  0.791461   \n",
              "3 -0.966272 -0.185226  1.792993 -0.863291 -0.010309  1.247203  0.237609   \n",
              "4 -1.158233  0.877737  1.548718  0.403034 -0.407193  0.095921  0.592941   \n",
              "\n",
              "         V8        V9       V10  ...       V22       V23       V24       V25  \\\n",
              "0  0.098698  0.363787  0.090794  ...  0.277838 -0.110474  0.066928  0.128539   \n",
              "1  0.085102 -0.255425 -0.166974  ... -0.638672  0.101288 -0.339846  0.167170   \n",
              "2  0.247676 -1.514654  0.207643  ...  0.771679  0.909412 -0.689281 -0.327642   \n",
              "3  0.377436 -1.387024 -0.054952  ...  0.005274 -0.190321 -1.175575  0.647376   \n",
              "4 -0.270533  0.817739  0.753074  ...  0.798278 -0.137458  0.141267 -0.206010   \n",
              "\n",
              "        V26       V27       V28  Class  std_amount  std_time  \n",
              "0 -0.189115  0.133558 -0.021053      0    0.245891 -1.996446  \n",
              "1  0.125895 -0.008983  0.014724      0   -0.346480 -1.996446  \n",
              "2 -0.139097 -0.055353 -0.059752      0    1.169303 -1.996425  \n",
              "3 -0.221929  0.062723  0.061458      0    0.140584 -1.996425  \n",
              "4  0.502292  0.219422  0.215153      0   -0.075150 -1.996404  \n",
              "\n",
              "[5 rows x 31 columns]"
            ],
            "text/html": [
              "\n",
              "  <div id=\"df-2e40b51f-7402-4686-85e5-233af6ef9dc5\">\n",
              "    <div class=\"colab-df-container\">\n",
              "      <div>\n",
              "<style scoped>\n",
              "    .dataframe tbody tr th:only-of-type {\n",
              "        vertical-align: middle;\n",
              "    }\n",
              "\n",
              "    .dataframe tbody tr th {\n",
              "        vertical-align: top;\n",
              "    }\n",
              "\n",
              "    .dataframe thead th {\n",
              "        text-align: right;\n",
              "    }\n",
              "</style>\n",
              "<table border=\"1\" class=\"dataframe\">\n",
              "  <thead>\n",
              "    <tr style=\"text-align: right;\">\n",
              "      <th></th>\n",
              "      <th>V1</th>\n",
              "      <th>V2</th>\n",
              "      <th>V3</th>\n",
              "      <th>V4</th>\n",
              "      <th>V5</th>\n",
              "      <th>V6</th>\n",
              "      <th>V7</th>\n",
              "      <th>V8</th>\n",
              "      <th>V9</th>\n",
              "      <th>V10</th>\n",
              "      <th>...</th>\n",
              "      <th>V22</th>\n",
              "      <th>V23</th>\n",
              "      <th>V24</th>\n",
              "      <th>V25</th>\n",
              "      <th>V26</th>\n",
              "      <th>V27</th>\n",
              "      <th>V28</th>\n",
              "      <th>Class</th>\n",
              "      <th>std_amount</th>\n",
              "      <th>std_time</th>\n",
              "    </tr>\n",
              "  </thead>\n",
              "  <tbody>\n",
              "    <tr>\n",
              "      <th>0</th>\n",
              "      <td>-1.359807</td>\n",
              "      <td>-0.072781</td>\n",
              "      <td>2.536347</td>\n",
              "      <td>1.378155</td>\n",
              "      <td>-0.338321</td>\n",
              "      <td>0.462388</td>\n",
              "      <td>0.239599</td>\n",
              "      <td>0.098698</td>\n",
              "      <td>0.363787</td>\n",
              "      <td>0.090794</td>\n",
              "      <td>...</td>\n",
              "      <td>0.277838</td>\n",
              "      <td>-0.110474</td>\n",
              "      <td>0.066928</td>\n",
              "      <td>0.128539</td>\n",
              "      <td>-0.189115</td>\n",
              "      <td>0.133558</td>\n",
              "      <td>-0.021053</td>\n",
              "      <td>0</td>\n",
              "      <td>0.245891</td>\n",
              "      <td>-1.996446</td>\n",
              "    </tr>\n",
              "    <tr>\n",
              "      <th>1</th>\n",
              "      <td>1.191857</td>\n",
              "      <td>0.266151</td>\n",
              "      <td>0.166480</td>\n",
              "      <td>0.448154</td>\n",
              "      <td>0.060018</td>\n",
              "      <td>-0.082361</td>\n",
              "      <td>-0.078803</td>\n",
              "      <td>0.085102</td>\n",
              "      <td>-0.255425</td>\n",
              "      <td>-0.166974</td>\n",
              "      <td>...</td>\n",
              "      <td>-0.638672</td>\n",
              "      <td>0.101288</td>\n",
              "      <td>-0.339846</td>\n",
              "      <td>0.167170</td>\n",
              "      <td>0.125895</td>\n",
              "      <td>-0.008983</td>\n",
              "      <td>0.014724</td>\n",
              "      <td>0</td>\n",
              "      <td>-0.346480</td>\n",
              "      <td>-1.996446</td>\n",
              "    </tr>\n",
              "    <tr>\n",
              "      <th>2</th>\n",
              "      <td>-1.358354</td>\n",
              "      <td>-1.340163</td>\n",
              "      <td>1.773209</td>\n",
              "      <td>0.379780</td>\n",
              "      <td>-0.503198</td>\n",
              "      <td>1.800499</td>\n",
              "      <td>0.791461</td>\n",
              "      <td>0.247676</td>\n",
              "      <td>-1.514654</td>\n",
              "      <td>0.207643</td>\n",
              "      <td>...</td>\n",
              "      <td>0.771679</td>\n",
              "      <td>0.909412</td>\n",
              "      <td>-0.689281</td>\n",
              "      <td>-0.327642</td>\n",
              "      <td>-0.139097</td>\n",
              "      <td>-0.055353</td>\n",
              "      <td>-0.059752</td>\n",
              "      <td>0</td>\n",
              "      <td>1.169303</td>\n",
              "      <td>-1.996425</td>\n",
              "    </tr>\n",
              "    <tr>\n",
              "      <th>3</th>\n",
              "      <td>-0.966272</td>\n",
              "      <td>-0.185226</td>\n",
              "      <td>1.792993</td>\n",
              "      <td>-0.863291</td>\n",
              "      <td>-0.010309</td>\n",
              "      <td>1.247203</td>\n",
              "      <td>0.237609</td>\n",
              "      <td>0.377436</td>\n",
              "      <td>-1.387024</td>\n",
              "      <td>-0.054952</td>\n",
              "      <td>...</td>\n",
              "      <td>0.005274</td>\n",
              "      <td>-0.190321</td>\n",
              "      <td>-1.175575</td>\n",
              "      <td>0.647376</td>\n",
              "      <td>-0.221929</td>\n",
              "      <td>0.062723</td>\n",
              "      <td>0.061458</td>\n",
              "      <td>0</td>\n",
              "      <td>0.140584</td>\n",
              "      <td>-1.996425</td>\n",
              "    </tr>\n",
              "    <tr>\n",
              "      <th>4</th>\n",
              "      <td>-1.158233</td>\n",
              "      <td>0.877737</td>\n",
              "      <td>1.548718</td>\n",
              "      <td>0.403034</td>\n",
              "      <td>-0.407193</td>\n",
              "      <td>0.095921</td>\n",
              "      <td>0.592941</td>\n",
              "      <td>-0.270533</td>\n",
              "      <td>0.817739</td>\n",
              "      <td>0.753074</td>\n",
              "      <td>...</td>\n",
              "      <td>0.798278</td>\n",
              "      <td>-0.137458</td>\n",
              "      <td>0.141267</td>\n",
              "      <td>-0.206010</td>\n",
              "      <td>0.502292</td>\n",
              "      <td>0.219422</td>\n",
              "      <td>0.215153</td>\n",
              "      <td>0</td>\n",
              "      <td>-0.075150</td>\n",
              "      <td>-1.996404</td>\n",
              "    </tr>\n",
              "  </tbody>\n",
              "</table>\n",
              "<p>5 rows × 31 columns</p>\n",
              "</div>\n",
              "      <button class=\"colab-df-convert\" onclick=\"convertToInteractive('df-2e40b51f-7402-4686-85e5-233af6ef9dc5')\"\n",
              "              title=\"Convert this dataframe to an interactive table.\"\n",
              "              style=\"display:none;\">\n",
              "        \n",
              "  <svg xmlns=\"http://www.w3.org/2000/svg\" height=\"24px\"viewBox=\"0 0 24 24\"\n",
              "       width=\"24px\">\n",
              "    <path d=\"M0 0h24v24H0V0z\" fill=\"none\"/>\n",
              "    <path d=\"M18.56 5.44l.94 2.06.94-2.06 2.06-.94-2.06-.94-.94-2.06-.94 2.06-2.06.94zm-11 1L8.5 8.5l.94-2.06 2.06-.94-2.06-.94L8.5 2.5l-.94 2.06-2.06.94zm10 10l.94 2.06.94-2.06 2.06-.94-2.06-.94-.94-2.06-.94 2.06-2.06.94z\"/><path d=\"M17.41 7.96l-1.37-1.37c-.4-.4-.92-.59-1.43-.59-.52 0-1.04.2-1.43.59L10.3 9.45l-7.72 7.72c-.78.78-.78 2.05 0 2.83L4 21.41c.39.39.9.59 1.41.59.51 0 1.02-.2 1.41-.59l7.78-7.78 2.81-2.81c.8-.78.8-2.07 0-2.86zM5.41 20L4 18.59l7.72-7.72 1.47 1.35L5.41 20z\"/>\n",
              "  </svg>\n",
              "      </button>\n",
              "      \n",
              "  <style>\n",
              "    .colab-df-container {\n",
              "      display:flex;\n",
              "      flex-wrap:wrap;\n",
              "      gap: 12px;\n",
              "    }\n",
              "\n",
              "    .colab-df-convert {\n",
              "      background-color: #E8F0FE;\n",
              "      border: none;\n",
              "      border-radius: 50%;\n",
              "      cursor: pointer;\n",
              "      display: none;\n",
              "      fill: #1967D2;\n",
              "      height: 32px;\n",
              "      padding: 0 0 0 0;\n",
              "      width: 32px;\n",
              "    }\n",
              "\n",
              "    .colab-df-convert:hover {\n",
              "      background-color: #E2EBFA;\n",
              "      box-shadow: 0px 1px 2px rgba(60, 64, 67, 0.3), 0px 1px 3px 1px rgba(60, 64, 67, 0.15);\n",
              "      fill: #174EA6;\n",
              "    }\n",
              "\n",
              "    [theme=dark] .colab-df-convert {\n",
              "      background-color: #3B4455;\n",
              "      fill: #D2E3FC;\n",
              "    }\n",
              "\n",
              "    [theme=dark] .colab-df-convert:hover {\n",
              "      background-color: #434B5C;\n",
              "      box-shadow: 0px 1px 3px 1px rgba(0, 0, 0, 0.15);\n",
              "      filter: drop-shadow(0px 1px 2px rgba(0, 0, 0, 0.3));\n",
              "      fill: #FFFFFF;\n",
              "    }\n",
              "  </style>\n",
              "\n",
              "      <script>\n",
              "        const buttonEl =\n",
              "          document.querySelector('#df-2e40b51f-7402-4686-85e5-233af6ef9dc5 button.colab-df-convert');\n",
              "        buttonEl.style.display =\n",
              "          google.colab.kernel.accessAllowed ? 'block' : 'none';\n",
              "\n",
              "        async function convertToInteractive(key) {\n",
              "          const element = document.querySelector('#df-2e40b51f-7402-4686-85e5-233af6ef9dc5');\n",
              "          const dataTable =\n",
              "            await google.colab.kernel.invokeFunction('convertToInteractive',\n",
              "                                                     [key], {});\n",
              "          if (!dataTable) return;\n",
              "\n",
              "          const docLinkHtml = 'Like what you see? Visit the ' +\n",
              "            '<a target=\"_blank\" href=https://colab.research.google.com/notebooks/data_table.ipynb>data table notebook</a>'\n",
              "            + ' to learn more about interactive tables.';\n",
              "          element.innerHTML = '';\n",
              "          dataTable['output_type'] = 'display_data';\n",
              "          await google.colab.output.renderOutput(dataTable, element);\n",
              "          const docLink = document.createElement('div');\n",
              "          docLink.innerHTML = docLinkHtml;\n",
              "          element.appendChild(docLink);\n",
              "        }\n",
              "      </script>\n",
              "    </div>\n",
              "  </div>\n",
              "  "
            ]
          },
          "metadata": {},
          "execution_count": 28
        }
      ],
      "source": [
        "# deletando as colunas Time e Amount\n",
        "df_new.drop(['Time', 'Amount'], axis=1, inplace=True)\n",
        "\n",
        "# verificando as primeiras entradas do novo dataset\n",
        "df_new.head()"
      ]
    },
    {
      "cell_type": "markdown",
      "metadata": {
        "id": "NwIOfriCBhhD"
      },
      "source": [
        "## Dividindo os Dados entre *treino* e *validação*\n",
        "\n",
        "Com os dados padronizados nas novas colunas **std_time** e **std_amount**, vou  separar os dados entre ***treino*** e ***validação*** antes de realizar o balanceamento, pois depois consigo fazer a comparação e verificar se o mesmo obteve melhora no resultado.\n",
        "\n",
        "A fim de conseguir que os conjuntos de treino e validação tenham a quantidade de classes na mesma proporção, utilizarei *stratify* e *shuffle*.\n",
        "\n",
        "* stratify: é uma técnica utilizada para dividir os dados em conjuntos de treinamento e teste de forma que as proporções das classes em cada conjunto sejam preservadas. Isso é especialmente útil quando se tem um conjunto de dados desbalanceado, ou seja, com uma classe tendo muito menos exemplos do que a outra.\n",
        "\n",
        "* shuffle (embaralhar): é usado para aleatoriedade da ordem dos exemplos nos dados de treinamento durante o processo. Isso é feito para aumentar sua capacidade de generalização aos dados desconhecidos."
      ]
    },
    {
      "cell_type": "code",
      "execution_count": null,
      "metadata": {
        "id": "yUSgzLFU8bTd"
      },
      "outputs": [],
      "source": [
        "# importando a biblioteca para separação dos dados\n",
        "from sklearn.model_selection import train_test_split\n",
        "\n",
        "# separando as variáveis\n",
        "X = df_new.drop('Class', axis=1)\n",
        "y = df_new['Class']\n",
        "\n",
        "# dividindo os dados entre treino e validação\n",
        "X_train, X_val, y_train, y_val = train_test_split(X, y, stratify=y, shuffle=True)"
      ]
    },
    {
      "cell_type": "code",
      "execution_count": null,
      "metadata": {
        "colab": {
          "base_uri": "https://localhost:8080/"
        },
        "id": "X3svIOqC-yVJ",
        "outputId": "95bb9571-b745-415d-96fb-ae02f4277855"
      },
      "outputs": [
        {
          "output_type": "stream",
          "name": "stdout",
          "text": [
            "Tamanho do conjunto X: (227846, 30)\n",
            "Tamanho do conjunto y: (227846,)\n",
            "Tamanho do conjunto X_train: (170884, 30)\n",
            "Tamanho do conjunto X_val: (56962, 30)\n",
            "Tamanho do conjunto y_train: (170884,)\n",
            "Tamanho do conjunto y_val: (56962,)\n"
          ]
        }
      ],
      "source": [
        "# mostrando o tamanho dos conjuntos de dados\n",
        "print('Tamanho do conjunto X: {}'.format(X.shape))\n",
        "print('Tamanho do conjunto y: {}'.format(y.shape))\n",
        "print('Tamanho do conjunto X_train: {}'.format(X_train.shape))\n",
        "print('Tamanho do conjunto X_val: {}'.format(X_val.shape))\n",
        "print('Tamanho do conjunto y_train: {}'.format(y_train.shape))\n",
        "print('Tamanho do conjunto y_val: {}'.format(y_val.shape))"
      ]
    },
    {
      "cell_type": "markdown",
      "metadata": {
        "id": "ZncazsmWA4x6"
      },
      "source": [
        "## Balanceamento dos Dados\n",
        "\n",
        "O balanceamento de dados em machine learning é o processo de ajustar a distribuição das classes em um conjunto de dados para evitar que o modelo seja enviesado para uma classe específica durante o treinamento. Isso pode ser feito de várias maneiras, como duplicar dados de uma classe menor ou gerar dados sintéticos para a classe menor. O objetivo é criar um conjunto de dados equilibrado que permita que o modelo seja treinado de forma mais precisa e eficaz.\n",
        "\n",
        " - **Oversampling**: é uma técnica de balanceamento de dados que duplica amostras da classe minoritária para equilibrar o conjunto de dados. Isso é feito quando há uma grande desproporção entre as classes e é difícil obter dados adicionais para a classe minoritária. No entanto, o oversampling pode aumentar o risco de overfitting e aumentar o tempo de treinamento do modelo. \n",
        "\n",
        " - **Undersampling**: é uma técnica de balanceamento de dados que reduz a frequência da classe majoritária, selecionando uma amostra aleatória de cada observação dessa classe. Essa técnica é usada quando há uma grande desproporção entre as classes, mas pode levar à perda de informações. Por isso, é importante avaliar cuidadosamente as consequências de usar essa técnica e, em alguns casos, combinar com outras técnicas de balanceamento de dados para preservar as informações importantes.\n",
        "\n",
        "Para realizar técnicas de balanceamento dos dados, utilizamos a biblioteca **imblearn**. Neste projeto vou usar o método *Under-sampling*, o qual tem como característica, preservar a classe minoritária, reduziando a classe majoritária selecionando uma amostra aleatória."
      ]
    },
    {
      "cell_type": "code",
      "execution_count": null,
      "metadata": {
        "id": "IawT7ju3CycC"
      },
      "outputs": [],
      "source": [
        "# importando a biblioteca para balanceamento dos dados\n",
        "from imblearn.under_sampling import RandomUnderSampler\n",
        "\n",
        "# utilizando a técnica under-sampling\n",
        "rus = RandomUnderSampler()\n",
        "X_rus, y_rus = rus.fit_resample(X_train, y_train)"
      ]
    },
    {
      "cell_type": "code",
      "execution_count": null,
      "metadata": {
        "colab": {
          "base_uri": "https://localhost:8080/",
          "height": 338
        },
        "id": "q82ZVmsgDx8b",
        "outputId": "7eb42e80-44a7-47de-a29e-c067f3544ddd"
      },
      "outputs": [
        {
          "output_type": "stream",
          "name": "stdout",
          "text": [
            "0    293\n",
            "1    293\n",
            "Name: Class, dtype: int64\n"
          ]
        },
        {
          "output_type": "display_data",
          "data": {
            "text/plain": [
              "<Figure size 800x300 with 1 Axes>"
            ],
            "image/png": "[encoded data removed]"
          },
          "metadata": {}
        }
      ],
      "source": [
        "# plotando as classificações balanceadas\n",
        "y_rus.value_counts().plot(kind='bar', figsize=(8, 3))\n",
        "\n",
        "# mostrando o balanceamendo da variável Class\n",
        "print(pd.Series(y_rus).value_counts())"
      ]
    },
    {
      "cell_type": "markdown",
      "source": [
        "Feito o balanceamento é possível evitar o *Overfiting*, que é quando um modelo se torna muito bom para fazer previsões com os dados de treino e ruím com os dados de teste, pois aprende demais com os dados vistos frequentemente e acaba não performando com os dados não vistos como no mundo real."
      ],
      "metadata": {
        "id": "NjTAMRAfEFnX"
      }
    },
    {
      "cell_type": "code",
      "source": [
        "# plotando uma de matriz de correlação\n",
        "corr = X_train.corr()\n",
        "corr_rus = pd.DataFrame(X_rus).corr()\n",
        "\n",
        "fig, ax = plt.subplots(nrows=1, ncols=2, figsize = (18,8))\n",
        "fig.suptitle('Matriz de Correlação')\n",
        "\n",
        "sns.heatmap(corr, xticklabels=corr.columns, yticklabels=corr.columns,\n",
        "            linewidths=.1, cmap=\"coolwarm\", ax=ax[0])\n",
        "ax[0].set_title('Desbalanceado')\n",
        "\n",
        "sns.heatmap(corr_rus, xticklabels=corr.columns, yticklabels=corr.columns,\n",
        "            linewidths=.1, cmap=\"coolwarm\", ax=ax[1])\n",
        "ax[1].set_title('Balanceado')\n",
        "\n",
        "plt.show()"
      ],
      "metadata": {
        "colab": {
          "base_uri": "https://localhost:8080/",
          "height": 781
        },
        "id": "bo5XrdCMCN6e",
        "outputId": "b4b103b2-963a-4d35-f645-702db81f6907"
      },
      "execution_count": null,
      "outputs": [
        {
          "output_type": "display_data",
          "data": {
            "text/plain": [
              "<Figure size 1800x800 with 4 Axes>"
            ],
            "image/png": "[encoded data removed]"
          },
          "metadata": {}
        }
      ]
    },
    {
      "cell_type": "markdown",
      "source": [
        "## Machine Learning\n",
        "\n",
        "**Machine Learning** é uma técnica em que os computadores aprendem a identificar padrões e relações nos dados, sem a necessidade de serem programados, através de algoritmos e modelos matemáticos. São usados para tomar decisões ou prever resultados futuros.\n",
        "\n",
        "Os modelos de **Machine Learning** são construídos a partir de um conjunto de dados de treinamento e podem ser de diversos tipos, como Regressão Linear, Regressão Logística, Árvores de Decisão, entre outros. \n",
        "\n",
        "Para construir um modelo eficaz, é importante ajustar seus hiperparâmetros adequadamente, além de utilizar um conjunto de dados de treinamento suficientemente grande e representativo."
      ],
      "metadata": {
        "id": "LAswo-Ho_nvu"
      }
    },
    {
      "cell_type": "markdown",
      "metadata": {
        "id": "wJNH5qcjRxfX"
      },
      "source": [
        "## Construção do Modelo - Regressão Logística\n",
        "\n",
        "Um modelo de Regressão Logística é usado para prever a probabilidade de um evento binário (ex: sim/não, verdadeiro/falso). É útil para problemas de classificação, onde o objetivo é prever em qual de duas categorias uma observação pertence.\n",
        "\n",
        "É frequentemente usado para prever coisas como se um cliente comprará ou não um produto, ou se uma transação é fraudulenta ou não.\n",
        "\n",
        "Neste modelo, utilizarei três métricas para realizar as análises de performance:\n",
        "\n",
        "* **Classification Report**: é uma tabela de métricas que resume o desempenho de um modelo de classificação em Machine Learning. Ele apresenta um conjunto de medidas que permitem avaliar a precisão do modelo em relação a cada classe prevista.\n",
        "\n",
        " - **Precision**: é a proporção de instâncias classificadas como positivas que são realmente positivas. Quanto maior o valor da precisão, melhor é o desempenho do modelo em identificar corretamente as instâncias positivas de uma classe.\n",
        "\n",
        " - **Recall**: é a proporção de instâncias positivas que foram corretamente identificadas pelo modelo. Quanto maior o valor do recall, melhor é o desempenho do modelo em identificar corretamente todas as instâncias positivas de uma classe.\n",
        "\n",
        " - **F1-score**: é uma métrica comumente usada para avaliar o desempenho de um modelo de classificação. Ele é calculado como a média harmônica entre a precisão e o recall. O F1-score varia entre 0 e 1, sendo que um valor de 1 indica que o modelo tem uma precisão e recall perfeitos. É uma métrica muito útil para avaliar o desempenho do modelo de classificação, especialmente quando as classes são desbalanceadas, pois ele considera tanto a precisão quanto o recall de forma igual.\n",
        "\n",
        " - **Support**: o número de instâncias reais de cada classe.\n",
        "\n",
        "* **Accuracy** (acurácia): é uma métrica usada para medir a precisão de um modelo de classificação. A acurácia é a proporção de instâncias classificadas corretamente em relação ao total de instâncias. No entanto, a acurácia nem sempre é a melhor métrica para avaliar o desempenho do modelo, especialmente em casos de classes desbalanceadas ou custos desiguais de erros.\n",
        "\n",
        "* **AUC** (área sob a curva): é uma métrica usada para avaliar o desempenho de um modelo de classificação binária. Ele mede a habilidade do modelo em classificar corretamente exemplos positivos e negativos, independentemente do ponto de corte escolhido. O AUC varia de 0 a 1, sendo que quanto maior o valor, melhor o desempenho do modelo.\n",
        "\n",
        "Vou agora construir um modelo de Regressão Logística a fim de analisar seu desempenho na detecção de fraudes de cartões de crédito."
      ]
    },
    {
      "cell_type": "markdown",
      "source": [
        "## Previsão com os Dados de Validação"
      ],
      "metadata": {
        "id": "NtR19Tlcf6Cm"
      }
    },
    {
      "cell_type": "code",
      "execution_count": null,
      "metadata": {
        "id": "lDySx8XUSMw_"
      },
      "outputs": [],
      "source": [
        "# importando as bibliotecas para modelo de Regressão Logística\n",
        "from sklearn.linear_model import LogisticRegression\n",
        "from sklearn.metrics import classification_report\n",
        "from sklearn.metrics import confusion_matrix\n",
        "from sklearn.metrics import roc_auc_score, roc_curve, accuracy_score"
      ]
    },
    {
      "cell_type": "code",
      "source": [
        "# instanciando o modelo e escolhendo os hiperparâmetros\n",
        "modelrl = LogisticRegression()\n",
        "\n",
        "# treinando o modelo\n",
        "modelrl.fit(X_rus, y_rus)\n",
        "\n",
        "# fazendo previsões em cima dos dados de teste (validação)\n",
        "y_pred = modelrl.predict(X_val)\n",
        "y_proba = modelrl.predict_proba(X_val)"
      ],
      "metadata": {
        "id": "pKVQlEAb0csY"
      },
      "execution_count": null,
      "outputs": []
    },
    {
      "cell_type": "code",
      "source": [
        "# plotando uma matriz de confusão\n",
        "matriz = confusion_matrix(y_val, y_pred, normalize='true')\n",
        "sns.heatmap(matriz, square=True, annot=True)\n"
      ],
      "metadata": {
        "colab": {
          "base_uri": "https://localhost:8080/",
          "height": 447
        },
        "id": "R4xage571kR_",
        "outputId": "d02ecacb-bccc-4baa-e993-5c7e8528de51"
      },
      "execution_count": null,
      "outputs": [
        {
          "output_type": "execute_result",
          "data": {
            "text/plain": [
              "<Axes: >"
            ]
          },
          "metadata": {},
          "execution_count": 36
        },
        {
          "output_type": "display_data",
          "data": {
            "text/plain": [
              "<Figure size 640x480 with 2 Axes>"
            ],
            "image/png": "[encoded data removed]"
          },
          "metadata": {}
        }
      ]
    },
    {
      "cell_type": "code",
      "source": [
        "# mostrando o relatório de classificação\n",
        "print('Relatório de Classificação:\\n', classification_report(y_val, y_pred, digits=4))\n",
        "\n",
        "# mostrando a acurácia do model0\n",
        "print('Acurácia:{:.4f}\\n'.format(accuracy_score(y_val, y_pred)))\n",
        "\n",
        "# mostrando a curva de classificação do modelo\n",
        "print('AUC:{:.4f}'.format(roc_auc_score(y_val, y_pred)))"
      ],
      "metadata": {
        "colab": {
          "base_uri": "https://localhost:8080/"
        },
        "id": "4YUkBiXm27oY",
        "outputId": "565b0676-ceaa-47cc-9f25-650dc8ee0d2c"
      },
      "execution_count": null,
      "outputs": [
        {
          "output_type": "stream",
          "name": "stdout",
          "text": [
            "Relatório de Classificação:\n",
            "               precision    recall  f1-score   support\n",
            "\n",
            "           0     0.9999    0.9656    0.9825     56864\n",
            "           1     0.0445    0.9286    0.0849        98\n",
            "\n",
            "    accuracy                         0.9656     56962\n",
            "   macro avg     0.5222    0.9471    0.5337     56962\n",
            "weighted avg     0.9982    0.9656    0.9809     56962\n",
            "\n",
            "Acurácia:0.9656\n",
            "\n",
            "AUC:0.9471\n"
          ]
        }
      ]
    },
    {
      "cell_type": "markdown",
      "source": [
        "Analisando o modelo com os dados de validação:\n",
        "* O modelo conseguiu prever 93% dos valores classificados como fraudes, isso é um bom número, pois o principal objetivo de um modelo para previsão de fraudes é justamente acertar o número de transações fraudulentas.\n",
        "* O modelo conseguiu uma acurácia de 96%.\n",
        "* A curva de classificação do modelo ficou em 0.9471, bem próxima de 1. "
      ],
      "metadata": {
        "id": "1wySqzGv5iij"
      }
    },
    {
      "cell_type": "markdown",
      "source": [
        "## Previsão com os Dados de Teste\n",
        "\n",
        "Para saber se um modelo está realmente desempenhando bem, precisamos fazer as previsões com os dados não vistos, os dados de teste que separamos anteriormente em 20% do dataset original.\n",
        "\n",
        "Separei 3 conjuntos de dados, um de treino, um de validação e um de teste.\n",
        "Foram padronizados os dados de treino e validação, faltando os de teste, é o que eu farei neste momento para que o modelo receba estes dados da mesma maneira, na mesma escala como o restante do dataset.\n",
        "\n",
        "Vou padronizar os dados de teste das colunas **Time** e **Amount** da mesma maneira que os dados de treino e validação, porém não vou balanceá-los, para não haver nenhuma perda de informações."
      ],
      "metadata": {
        "id": "dNUOxwK-CX_B"
      }
    },
    {
      "cell_type": "code",
      "source": [
        "# criando uma cópia para os dados de teste\n",
        "teste_clean = teste.copy()\n",
        "\n",
        "# padronizando os dados de teste\n",
        "std_scaler = StandardScaler()\n",
        "teste_clean['std_amount'] = std_scaler.fit_transform(teste_clean['Amount'].values.reshape(-1, 1))\n",
        "teste_clean['std_time'] = std_scaler.fit_transform(teste_clean['Time'].values.reshape(-1, 1))\n",
        "\n",
        "\n",
        "# deletando a coluna Time e Amount do dataset de teste\n",
        "teste_clean.drop(['Time', 'Amount'], axis=1, inplace=True)\n",
        "\n",
        "# verificando o dataset teste_clean\n",
        "teste_clean.head()\n"
      ],
      "metadata": {
        "id": "RjDAZgiYGbk2",
        "colab": {
          "base_uri": "https://localhost:8080/",
          "height": 299
        },
        "outputId": "b32be342-ab03-4943-ada3-501fa33180dd"
      },
      "execution_count": null,
      "outputs": [
        {
          "output_type": "execute_result",
          "data": {
            "text/plain": [
              "              V1        V2        V3        V4        V5        V6        V7  \\\n",
              "183484 -0.323334  1.057455 -0.048341 -0.607204  1.259821 -0.091761  1.159101   \n",
              "255448 -0.349718  0.932619  0.142992 -0.657071  1.169784 -0.733369  1.009985   \n",
              "244749 -1.614711 -2.406570  0.326194  0.665520  2.369268 -1.775367 -1.139049   \n",
              "63919  -2.477184  0.860613  1.441850  1.051019 -1.856621  2.078384  0.510828   \n",
              "11475   1.338831 -0.547264  0.737389 -0.212383 -1.110039 -0.525744 -0.801403   \n",
              "\n",
              "              V8        V9       V10  ...       V22       V23       V24  \\\n",
              "183484 -0.124335 -0.174640 -1.644401  ... -0.433890 -0.261613 -0.046651   \n",
              "255448 -0.071069 -0.302083 -1.192404  ... -0.833209 -0.030360  0.490035   \n",
              "244749  0.329904  0.903813 -0.219013  ...  1.134489  0.965054  0.640981   \n",
              "63919  -0.243399 -0.260691  0.133040  ...  0.692245  0.150121 -0.260777   \n",
              "11475  -0.063672  0.997276  0.113386  ... -0.074719  0.067055  0.333122   \n",
              "\n",
              "             V25       V26       V27       V28  Class  std_amount  std_time  \n",
              "183484  0.211512  0.008297  0.108494  0.161139      0   -0.182858  0.655212  \n",
              "255448 -0.404816  0.134350  0.076830  0.175562      0   -0.330062  1.317429  \n",
              "244749 -1.801998 -1.041114  0.286285  0.437322      0    0.033961  1.217003  \n",
              "63919   0.005183 -0.177847 -0.510060 -0.660533      0    0.854774 -0.923577  \n",
              "11475   0.379087 -0.268706 -0.002769  0.003272      0   -0.318369 -1.577658  \n",
              "\n",
              "[5 rows x 31 columns]"
            ],
            "text/html": [
              "\n",
              "  <div id=\"df-2cfce538-3cfd-481c-a931-a81e0d8cbd46\">\n",
              "    <div class=\"colab-df-container\">\n",
              "      <div>\n",
              "<style scoped>\n",
              "    .dataframe tbody tr th:only-of-type {\n",
              "        vertical-align: middle;\n",
              "    }\n",
              "\n",
              "    .dataframe tbody tr th {\n",
              "        vertical-align: top;\n",
              "    }\n",
              "\n",
              "    .dataframe thead th {\n",
              "        text-align: right;\n",
              "    }\n",
              "</style>\n",
              "<table border=\"1\" class=\"dataframe\">\n",
              "  <thead>\n",
              "    <tr style=\"text-align: right;\">\n",
              "      <th></th>\n",
              "      <th>V1</th>\n",
              "      <th>V2</th>\n",
              "      <th>V3</th>\n",
              "      <th>V4</th>\n",
              "      <th>V5</th>\n",
              "      <th>V6</th>\n",
              "      <th>V7</th>\n",
              "      <th>V8</th>\n",
              "      <th>V9</th>\n",
              "      <th>V10</th>\n",
              "      <th>...</th>\n",
              "      <th>V22</th>\n",
              "      <th>V23</th>\n",
              "      <th>V24</th>\n",
              "      <th>V25</th>\n",
              "      <th>V26</th>\n",
              "      <th>V27</th>\n",
              "      <th>V28</th>\n",
              "      <th>Class</th>\n",
              "      <th>std_amount</th>\n",
              "      <th>std_time</th>\n",
              "    </tr>\n",
              "  </thead>\n",
              "  <tbody>\n",
              "    <tr>\n",
              "      <th>183484</th>\n",
              "      <td>-0.323334</td>\n",
              "      <td>1.057455</td>\n",
              "      <td>-0.048341</td>\n",
              "      <td>-0.607204</td>\n",
              "      <td>1.259821</td>\n",
              "      <td>-0.091761</td>\n",
              "      <td>1.159101</td>\n",
              "      <td>-0.124335</td>\n",
              "      <td>-0.174640</td>\n",
              "      <td>-1.644401</td>\n",
              "      <td>...</td>\n",
              "      <td>-0.433890</td>\n",
              "      <td>-0.261613</td>\n",
              "      <td>-0.046651</td>\n",
              "      <td>0.211512</td>\n",
              "      <td>0.008297</td>\n",
              "      <td>0.108494</td>\n",
              "      <td>0.161139</td>\n",
              "      <td>0</td>\n",
              "      <td>-0.182858</td>\n",
              "      <td>0.655212</td>\n",
              "    </tr>\n",
              "    <tr>\n",
              "      <th>255448</th>\n",
              "      <td>-0.349718</td>\n",
              "      <td>0.932619</td>\n",
              "      <td>0.142992</td>\n",
              "      <td>-0.657071</td>\n",
              "      <td>1.169784</td>\n",
              "      <td>-0.733369</td>\n",
              "      <td>1.009985</td>\n",
              "      <td>-0.071069</td>\n",
              "      <td>-0.302083</td>\n",
              "      <td>-1.192404</td>\n",
              "      <td>...</td>\n",
              "      <td>-0.833209</td>\n",
              "      <td>-0.030360</td>\n",
              "      <td>0.490035</td>\n",
              "      <td>-0.404816</td>\n",
              "      <td>0.134350</td>\n",
              "      <td>0.076830</td>\n",
              "      <td>0.175562</td>\n",
              "      <td>0</td>\n",
              "      <td>-0.330062</td>\n",
              "      <td>1.317429</td>\n",
              "    </tr>\n",
              "    <tr>\n",
              "      <th>244749</th>\n",
              "      <td>-1.614711</td>\n",
              "      <td>-2.406570</td>\n",
              "      <td>0.326194</td>\n",
              "      <td>0.665520</td>\n",
              "      <td>2.369268</td>\n",
              "      <td>-1.775367</td>\n",
              "      <td>-1.139049</td>\n",
              "      <td>0.329904</td>\n",
              "      <td>0.903813</td>\n",
              "      <td>-0.219013</td>\n",
              "      <td>...</td>\n",
              "      <td>1.134489</td>\n",
              "      <td>0.965054</td>\n",
              "      <td>0.640981</td>\n",
              "      <td>-1.801998</td>\n",
              "      <td>-1.041114</td>\n",
              "      <td>0.286285</td>\n",
              "      <td>0.437322</td>\n",
              "      <td>0</td>\n",
              "      <td>0.033961</td>\n",
              "      <td>1.217003</td>\n",
              "    </tr>\n",
              "    <tr>\n",
              "      <th>63919</th>\n",
              "      <td>-2.477184</td>\n",
              "      <td>0.860613</td>\n",
              "      <td>1.441850</td>\n",
              "      <td>1.051019</td>\n",
              "      <td>-1.856621</td>\n",
              "      <td>2.078384</td>\n",
              "      <td>0.510828</td>\n",
              "      <td>-0.243399</td>\n",
              "      <td>-0.260691</td>\n",
              "      <td>0.133040</td>\n",
              "      <td>...</td>\n",
              "      <td>0.692245</td>\n",
              "      <td>0.150121</td>\n",
              "      <td>-0.260777</td>\n",
              "      <td>0.005183</td>\n",
              "      <td>-0.177847</td>\n",
              "      <td>-0.510060</td>\n",
              "      <td>-0.660533</td>\n",
              "      <td>0</td>\n",
              "      <td>0.854774</td>\n",
              "      <td>-0.923577</td>\n",
              "    </tr>\n",
              "    <tr>\n",
              "      <th>11475</th>\n",
              "      <td>1.338831</td>\n",
              "      <td>-0.547264</td>\n",
              "      <td>0.737389</td>\n",
              "      <td>-0.212383</td>\n",
              "      <td>-1.110039</td>\n",
              "      <td>-0.525744</td>\n",
              "      <td>-0.801403</td>\n",
              "      <td>-0.063672</td>\n",
              "      <td>0.997276</td>\n",
              "      <td>0.113386</td>\n",
              "      <td>...</td>\n",
              "      <td>-0.074719</td>\n",
              "      <td>0.067055</td>\n",
              "      <td>0.333122</td>\n",
              "      <td>0.379087</td>\n",
              "      <td>-0.268706</td>\n",
              "      <td>-0.002769</td>\n",
              "      <td>0.003272</td>\n",
              "      <td>0</td>\n",
              "      <td>-0.318369</td>\n",
              "      <td>-1.577658</td>\n",
              "    </tr>\n",
              "  </tbody>\n",
              "</table>\n",
              "<p>5 rows × 31 columns</p>\n",
              "</div>\n",
              "      <button class=\"colab-df-convert\" onclick=\"convertToInteractive('df-2cfce538-3cfd-481c-a931-a81e0d8cbd46')\"\n",
              "              title=\"Convert this dataframe to an interactive table.\"\n",
              "              style=\"display:none;\">\n",
              "        \n",
              "  <svg xmlns=\"http://www.w3.org/2000/svg\" height=\"24px\"viewBox=\"0 0 24 24\"\n",
              "       width=\"24px\">\n",
              "    <path d=\"M0 0h24v24H0V0z\" fill=\"none\"/>\n",
              "    <path d=\"M18.56 5.44l.94 2.06.94-2.06 2.06-.94-2.06-.94-.94-2.06-.94 2.06-2.06.94zm-11 1L8.5 8.5l.94-2.06 2.06-.94-2.06-.94L8.5 2.5l-.94 2.06-2.06.94zm10 10l.94 2.06.94-2.06 2.06-.94-2.06-.94-.94-2.06-.94 2.06-2.06.94z\"/><path d=\"M17.41 7.96l-1.37-1.37c-.4-.4-.92-.59-1.43-.59-.52 0-1.04.2-1.43.59L10.3 9.45l-7.72 7.72c-.78.78-.78 2.05 0 2.83L4 21.41c.39.39.9.59 1.41.59.51 0 1.02-.2 1.41-.59l7.78-7.78 2.81-2.81c.8-.78.8-2.07 0-2.86zM5.41 20L4 18.59l7.72-7.72 1.47 1.35L5.41 20z\"/>\n",
              "  </svg>\n",
              "      </button>\n",
              "      \n",
              "  <style>\n",
              "    .colab-df-container {\n",
              "      display:flex;\n",
              "      flex-wrap:wrap;\n",
              "      gap: 12px;\n",
              "    }\n",
              "\n",
              "    .colab-df-convert {\n",
              "      background-color: #E8F0FE;\n",
              "      border: none;\n",
              "      border-radius: 50%;\n",
              "      cursor: pointer;\n",
              "      display: none;\n",
              "      fill: #1967D2;\n",
              "      height: 32px;\n",
              "      padding: 0 0 0 0;\n",
              "      width: 32px;\n",
              "    }\n",
              "\n",
              "    .colab-df-convert:hover {\n",
              "      background-color: #E2EBFA;\n",
              "      box-shadow: 0px 1px 2px rgba(60, 64, 67, 0.3), 0px 1px 3px 1px rgba(60, 64, 67, 0.15);\n",
              "      fill: #174EA6;\n",
              "    }\n",
              "\n",
              "    [theme=dark] .colab-df-convert {\n",
              "      background-color: #3B4455;\n",
              "      fill: #D2E3FC;\n",
              "    }\n",
              "\n",
              "    [theme=dark] .colab-df-convert:hover {\n",
              "      background-color: #434B5C;\n",
              "      box-shadow: 0px 1px 3px 1px rgba(0, 0, 0, 0.15);\n",
              "      filter: drop-shadow(0px 1px 2px rgba(0, 0, 0, 0.3));\n",
              "      fill: #FFFFFF;\n",
              "    }\n",
              "  </style>\n",
              "\n",
              "      <script>\n",
              "        const buttonEl =\n",
              "          document.querySelector('#df-2cfce538-3cfd-481c-a931-a81e0d8cbd46 button.colab-df-convert');\n",
              "        buttonEl.style.display =\n",
              "          google.colab.kernel.accessAllowed ? 'block' : 'none';\n",
              "\n",
              "        async function convertToInteractive(key) {\n",
              "          const element = document.querySelector('#df-2cfce538-3cfd-481c-a931-a81e0d8cbd46');\n",
              "          const dataTable =\n",
              "            await google.colab.kernel.invokeFunction('convertToInteractive',\n",
              "                                                     [key], {});\n",
              "          if (!dataTable) return;\n",
              "\n",
              "          const docLinkHtml = 'Like what you see? Visit the ' +\n",
              "            '<a target=\"_blank\" href=https://colab.research.google.com/notebooks/data_table.ipynb>data table notebook</a>'\n",
              "            + ' to learn more about interactive tables.';\n",
              "          element.innerHTML = '';\n",
              "          dataTable['output_type'] = 'display_data';\n",
              "          await google.colab.output.renderOutput(dataTable, element);\n",
              "          const docLink = document.createElement('div');\n",
              "          docLink.innerHTML = docLinkHtml;\n",
              "          element.appendChild(docLink);\n",
              "        }\n",
              "      </script>\n",
              "    </div>\n",
              "  </div>\n",
              "  "
            ]
          },
          "metadata": {},
          "execution_count": 38
        }
      ]
    },
    {
      "cell_type": "code",
      "source": [
        "teste_clean.shape"
      ],
      "metadata": {
        "colab": {
          "base_uri": "https://localhost:8080/"
        },
        "id": "wMMg-VkM54Z5",
        "outputId": "b22f7843-885e-432d-9b2d-ce3be63c8202"
      },
      "execution_count": null,
      "outputs": [
        {
          "output_type": "execute_result",
          "data": {
            "text/plain": [
              "(56961, 31)"
            ]
          },
          "metadata": {},
          "execution_count": 39
        }
      ]
    },
    {
      "cell_type": "markdown",
      "source": [
        "Com o *dataset* de teste padronizado, vou separar os dados para treino e teste, inserí-los no modelo de **Regressão Logística** e analisar sua performance em relação aos dados de treino e validação que foram balanceados."
      ],
      "metadata": {
        "id": "JcxPfGrPV4B4"
      }
    },
    {
      "cell_type": "code",
      "source": [
        "# separando as variáveis entre treino e teste\n",
        "X_teste = teste_clean.drop('Class', axis=1)\n",
        "y_teste = teste['Class']"
      ],
      "metadata": {
        "id": "RDZ1kjnzZtwe"
      },
      "execution_count": null,
      "outputs": []
    },
    {
      "cell_type": "code",
      "source": [
        "# fazendo previsões em cima dos dados de teste\n",
        "y_pred = modelrl.predict(X_teste)\n",
        "y_proba = modelrl.predict_proba(X_teste)"
      ],
      "metadata": {
        "id": "7EfXC8-4a1Mh"
      },
      "execution_count": null,
      "outputs": []
    },
    {
      "cell_type": "code",
      "source": [
        "# plotando a matriz de confusão\n",
        "matriz2 = confusion_matrix(y_teste, y_pred, normalize='true')\n",
        "sns.heatmap(matriz2, square=True, annot=True)"
      ],
      "metadata": {
        "colab": {
          "base_uri": "https://localhost:8080/",
          "height": 447
        },
        "id": "KrYz1uumCMif",
        "outputId": "be9d7be0-133e-4a7d-be68-625cb5c0b072"
      },
      "execution_count": null,
      "outputs": [
        {
          "output_type": "execute_result",
          "data": {
            "text/plain": [
              "<Axes: >"
            ]
          },
          "metadata": {},
          "execution_count": 42
        },
        {
          "output_type": "display_data",
          "data": {
            "text/plain": [
              "<Figure size 640x480 with 2 Axes>"
            ],
            "image/png": "[encoded data removed]"
          },
          "metadata": {}
        }
      ]
    },
    {
      "cell_type": "code",
      "source": [
        "# mostrando o relatório de classificação\n",
        "print('Relatório de Classificação:\\n', classification_report(y_teste, y_pred, digits=4))\n",
        "\n",
        "# mostrando a acurácia do model0\n",
        "print('Acurácia:{:.4f}\\n'.format(accuracy_score(y_teste, y_pred)))\n",
        "\n",
        "# mostrando a curva de classificação do modelo\n",
        "print('AUC:{:.4f}'.format(roc_auc_score(y_teste, y_pred)))"
      ],
      "metadata": {
        "colab": {
          "base_uri": "https://localhost:8080/"
        },
        "id": "N-8hGh3xDtiK",
        "outputId": "61c0fb9c-85ff-4280-cda7-65715ba1c456"
      },
      "execution_count": null,
      "outputs": [
        {
          "output_type": "stream",
          "name": "stdout",
          "text": [
            "Relatório de Classificação:\n",
            "               precision    recall  f1-score   support\n",
            "\n",
            "           0     0.9999    0.9660    0.9827     56860\n",
            "           1     0.0473    0.9505    0.0901       101\n",
            "\n",
            "    accuracy                         0.9660     56961\n",
            "   macro avg     0.5236    0.9582    0.5364     56961\n",
            "weighted avg     0.9982    0.9660    0.9811     56961\n",
            "\n",
            "Acurácia:0.9660\n",
            "\n",
            "AUC:0.9582\n"
          ]
        }
      ]
    },
    {
      "cell_type": "markdown",
      "metadata": {
        "id": "3e4ENOTYSUXi"
      },
      "source": [
        "## Avaliação do desempenho do modelo de Regressão Logística\n",
        "\n",
        "Conforme os resultados obtidos com o Modelo de Regressão Logística, a acurácia se manteve em 0.96 e houve um aumento na previsão das fraudes de 0.93 para 0.95 com os dados de teste que não foram balanceados, em relação aos dados de validação que foram balanceados.\n",
        "\n",
        "Isso mostra que nem sempre a melhor opção é realizar o balanceamento dos dados para conseguir uma performance do modelo.\n"
      ]
    },
    {
      "cell_type": "markdown",
      "source": [
        "## Construção do Modelo - Árvore de Decisão\n",
        "\n",
        "Modelo de **Árvore de Decisão** é um algoritmo de Machine Learning que utiliza uma estrutura de árvore para representar uma série de decisões e suas possíveis consequências. \n",
        "\n",
        "É usado para classificar ou prever uma variável alvo a partir de um conjunto de variáveis de entrada. O modelo percorre a árvore seguindo as decisões que levam a um nó terminal, que corresponde à previsão ou classificação final. \n",
        "\n",
        "São fáceis de interpretar e podem ser usadas em problemas de classificação e regressão, além de lidar com dados categóricos e numéricos e serem menos sensíveis a dados ausentes e outliers.\n",
        "\n",
        "É frequentemente utilizada em modelos de classificação, em que o objetivo é categorizar um conjunto de dados em classes distintas, que é o nosso caso neste projeto.\n",
        "\n",
        "Existem alguns parâmetros que são comuns em muitas implementações, tais como:\n",
        "\n",
        "- **max_depth**: a profundidade máxima da árvore, ou seja, o número máximo de nós que podem ser percorridos da raiz até uma folha.\n",
        "- **min_samples_split**: o número mínimo de amostras necessárias para dividir um nó interno.\n",
        "- **min_samples_leaf**: o número mínimo de amostras necessárias para serem consideradas como uma folha.\n",
        "- **max_features**: o número máximo de atributos que podem ser considerados para a divisão de um nó.\n",
        "\n",
        "Vou criar um modelo de **Árvore de Decisão** a fim de comparar o seu desempenho quanto ao modelo de Regressão Logística e analisar qual o melhor modelo para nosso problema de detecção de fraudes em cartões de crédito. Utilizarei também o parâmetro **max_depth** para limitar o número de nós da árvore."
      ],
      "metadata": {
        "id": "c7UC58voFRqS"
      }
    },
    {
      "cell_type": "markdown",
      "source": [
        "## Previsão com os Dados de Validação"
      ],
      "metadata": {
        "id": "mThNYDdtgH4-"
      }
    },
    {
      "cell_type": "code",
      "execution_count": null,
      "metadata": {
        "id": "H1jEi7gkSe2r"
      },
      "outputs": [],
      "source": [
        "# importando as bibliotecas\n",
        "from sklearn.tree import DecisionTreeClassifier"
      ]
    },
    {
      "cell_type": "code",
      "source": [
        "# instanciando o modelo e escolhendo os hiperparâmetros\n",
        "modeldt = DecisionTreeClassifier(max_depth=3, criterion='entropy')"
      ],
      "metadata": {
        "id": "_7Egv5BhON9T"
      },
      "execution_count": null,
      "outputs": []
    },
    {
      "cell_type": "code",
      "source": [
        "# treinando o modelo\n",
        "modeldt.fit(X_rus, y_rus)\n",
        "\n",
        "# fazendo previsões com os dados de validação\n",
        "y_pred = modeldt.predict(X_val)\n",
        "y_proba = modeldt.predict_proba(X_val)\n",
        "\n",
        "# plotando uma matriz de confusão\n",
        "matriz3 = confusion_matrix(y_val, y_pred, normalize='true')\n",
        "sns.heatmap(matriz3, square=True, annot=True)"
      ],
      "metadata": {
        "colab": {
          "base_uri": "https://localhost:8080/",
          "height": 447
        },
        "id": "6Na_rxmfQZ6C",
        "outputId": "f8d4a2d0-ba1d-4ba5-b4a6-3a961142d1ca"
      },
      "execution_count": null,
      "outputs": [
        {
          "output_type": "execute_result",
          "data": {
            "text/plain": [
              "<Axes: >"
            ]
          },
          "metadata": {},
          "execution_count": 46
        },
        {
          "output_type": "display_data",
          "data": {
            "text/plain": [
              "<Figure size 640x480 with 2 Axes>"
            ],
            "image/png": "[encoded data removed]"
          },
          "metadata": {}
        }
      ]
    },
    {
      "cell_type": "code",
      "source": [
        "# mostrando o relatório de classificação\n",
        "print('Relatório de Classificação:\\n', classification_report(y_val, y_pred, digits=4))\n",
        "\n",
        "# mostrando a acurácia do model0\n",
        "print('Acurácia:{:.4f}\\n'.format(accuracy_score(y_val, y_pred)))\n",
        "\n",
        "# mostrando a curva de classificação do modelo\n",
        "print('AUC:{:.4f}'.format(roc_auc_score(y_val, y_pred)))"
      ],
      "metadata": {
        "colab": {
          "base_uri": "https://localhost:8080/"
        },
        "id": "7b1SbiwtefPG",
        "outputId": "98ce1a5d-abba-42e2-c61d-23e2ff8c04e8"
      },
      "execution_count": null,
      "outputs": [
        {
          "output_type": "stream",
          "name": "stdout",
          "text": [
            "Relatório de Classificação:\n",
            "               precision    recall  f1-score   support\n",
            "\n",
            "           0     0.9999    0.9576    0.9783     56864\n",
            "           1     0.0364    0.9286    0.0701        98\n",
            "\n",
            "    accuracy                         0.9576     56962\n",
            "   macro avg     0.5181    0.9431    0.5242     56962\n",
            "weighted avg     0.9982    0.9576    0.9767     56962\n",
            "\n",
            "Acurácia:0.9576\n",
            "\n",
            "AUC:0.9431\n"
          ]
        }
      ]
    },
    {
      "cell_type": "markdown",
      "source": [
        "Analisando o modelo com os dados de validação:\n",
        "* O modelo conseguiu prever 93% dos valores fraudulentos classificados como 1, o que mostra um bom desemprenho quando nosso principal objetivo é prever estes valores\n",
        "* Sua acurácia foi de aproximadamente 95%, quase a mesma que no modelo de Regressão Logística\n",
        "* O AUC foi de 0.9431, um pouco acima do modelo de Regressão Logística, e bem próximo de 1 que é um bom número."
      ],
      "metadata": {
        "id": "TqZusnCVjPIs"
      }
    },
    {
      "cell_type": "markdown",
      "source": [
        "## Previsão com os Dados de Teste"
      ],
      "metadata": {
        "id": "6Rh840VzgPHO"
      }
    },
    {
      "cell_type": "code",
      "source": [
        "# fazendo previsão com os dados de teste\n",
        "y_pred = modeldt.predict(X_teste)\n",
        "y_proba = modeldt.predict_proba(X_teste)\n",
        "\n",
        "# plotando a matriz de confusão\n",
        "matriz4 = confusion_matrix(y_teste, y_pred, normalize='true')\n",
        "sns.heatmap(matriz4, square=True, annot=True)"
      ],
      "metadata": {
        "colab": {
          "base_uri": "https://localhost:8080/",
          "height": 447
        },
        "id": "w9tKLMPTgTSV",
        "outputId": "cdfd9e05-99ca-44e0-c5d1-13ef56312921"
      },
      "execution_count": null,
      "outputs": [
        {
          "output_type": "execute_result",
          "data": {
            "text/plain": [
              "<Axes: >"
            ]
          },
          "metadata": {},
          "execution_count": 49
        },
        {
          "output_type": "display_data",
          "data": {
            "text/plain": [
              "<Figure size 640x480 with 2 Axes>"
            ],
            "image/png": "[encoded data removed]"
          },
          "metadata": {}
        }
      ]
    },
    {
      "cell_type": "code",
      "source": [
        "# mostrando o relatório de classificação\n",
        "print('Relatório de Classificação:\\n', classification_report(y_teste, y_pred, digits=4))\n",
        "\n",
        "# mostrando a acurácia do model0\n",
        "print('Acurácia:{:.4f}\\n'.format(accuracy_score(y_teste, y_pred)))\n",
        "\n",
        "# mostrando a curva de classificação do modelo\n",
        "print('AUC:{:.4f}'.format(roc_auc_score(y_teste, y_pred)))"
      ],
      "metadata": {
        "colab": {
          "base_uri": "https://localhost:8080/"
        },
        "id": "sGHl3GXBl8KX",
        "outputId": "544d7a6c-3c94-41e9-f980-eecd35055eb6"
      },
      "execution_count": null,
      "outputs": [
        {
          "output_type": "stream",
          "name": "stdout",
          "text": [
            "Relatório de Classificação:\n",
            "               precision    recall  f1-score   support\n",
            "\n",
            "           0     0.9998    0.9571    0.9780     56860\n",
            "           1     0.0348    0.8713    0.0670       101\n",
            "\n",
            "    accuracy                         0.9570     56961\n",
            "   macro avg     0.5173    0.9142    0.5225     56961\n",
            "weighted avg     0.9981    0.9570    0.9764     56961\n",
            "\n",
            "Acurácia:0.9570\n",
            "\n",
            "AUC:0.9142\n"
          ]
        }
      ]
    },
    {
      "cell_type": "markdown",
      "source": [
        "## Avaliação do Modelo de Árvore de Decisão\n",
        "\n",
        "Com o resultado da previsão com os dados de teste neste modelo, posso concluir que teve uma queda de 93% para 87% quando falamos na capacidade de prever as fraudes classificadas como 1, sua acurácia se manteve em 95% e houve queda também no AUC, de 0.9431 para 0.9142.\n",
        "\n",
        "Isso mostra que neste modelo, balanceando os dados de teste, poderia alcançar uma previsão melhor nos valores fraudulentos cuja classe é igual a 1.\n",
        "\n"
      ],
      "metadata": {
        "id": "UK93so8wlE3r"
      }
    },
    {
      "cell_type": "markdown",
      "metadata": {
        "id": "0Bj7zRZMSfO7"
      },
      "source": [
        "## Conclusão\n",
        "\n",
        "Para que o Cientista de Dados possa construir modelos de Machine Learning ideais para resolução de problemas, ele precisa ao menos conhecer sobre o negócio em que está trabalhando.\n",
        "\n",
        "Neste projeto o objetivo era criar modelos para prevenções de fraudes em cartões de crédito e avaliar quais dos modelos teriam melhor performance e precisão, principalmente na classe classificada como fraude, sem deixar de analisar os falsos positivos e negativos, que geram alertas para as instituições financeiras.\n",
        "\n",
        "Apesar do dataset não apresentar valores ausentes e estar bem distribuído, os dados estavam muito desbalanceados, sendo preciso aplicar métodos e técnicas para obter um melhor resultado nos modelos, exigindo do profissional um conhecimento a mais no assunto.\n",
        "\n",
        "Com os resultados obtidos, o modelo de Regressão Logística teve uma pequena vantangem em relação ao modelo de Árvore de Decisão para este caso, lembrando que é possível realizar outras técnicas e outros algoritmos que podem trazer outros resultados.\n",
        "\n"
      ]
    },
    {
      "cell_type": "markdown",
      "source": [
        "## Bibliografia\n",
        "\n",
        "Machine Learning Mastery:\n",
        "https://machinelearningmastery.com/types-of-classification-in-machine-learning/\n",
        "\n",
        "https://machinelearningmastery.com/precision-recall-and-f-measure-for-imbalanced-classification/\n",
        "\n",
        "Edureka:\n",
        "https://www.edureka.co/blog/classification-in-machine-learning/\n",
        "\n",
        "Scikit-Learn: \n",
        "https://scikit-learn.org/stable/modules/tree.html\n",
        "\n",
        "Sigmoidal:\n",
        "https://sigmoidal.ai/como-lidar-com-dados-desbalanceados/"
      ],
      "metadata": {
        "id": "FOFevIW1Mwog"
      }
    },
    {
      "cell_type": "markdown",
      "source": [
        "*“Sem dados você é apenas uma pessoa qualquer com uma opinião.”*\n",
        "\n",
        "*William Edwards Deming*"
      ],
      "metadata": {
        "id": "nf0QM2Oj05Hb"
      }
    }
  ],
  "metadata": {
    "colab": {
      "provenance": []
    },
    "kernelspec": {
      "display_name": "Python 3",
      "name": "python3"
    }
  },
  "nbformat": 4,
  "nbformat_minor": 0
}